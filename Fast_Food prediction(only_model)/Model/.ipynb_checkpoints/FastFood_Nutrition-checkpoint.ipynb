{
 "cells": [
  {
   "cell_type": "markdown",
   "id": "c91a58a0",
   "metadata": {},
   "source": [
    "<img src=\"https://images.firstwefeast.com/complex/image/upload/c_limit,f_auto,fl_lossy,q_auto,w_768/ydkqupv4iiclufeyjlw1.jpg\" alt=\"Girl in a jacket\" width=\"500\" height=\"600\">"
   ]
  },
  {
   "cell_type": "markdown",
   "id": "65b3c0b6",
   "metadata": {},
   "source": [
    "<h1 style=\"color:purple;font-family: Georgia, serif;font-size:40px\">Fast Food Nutrition Analysis & Model biulding </h1>"
   ]
  },
  {
   "cell_type": "markdown",
   "id": "9dbd1f5d",
   "metadata": {},
   "source": [
    "## Importing  necessary libraries "
   ]
  },
  {
   "cell_type": "code",
   "execution_count": 1,
   "id": "51e17634",
   "metadata": {},
   "outputs": [],
   "source": [
    "import pandas as pd\n",
    "import numpy as np\n",
    "import matplotlib.pyplot as plt\n",
    "import seaborn as sns\n",
    "import warnings\n",
    "\n"
   ]
  },
  {
   "cell_type": "code",
   "execution_count": 2,
   "id": "974ea8c0",
   "metadata": {},
   "outputs": [],
   "source": [
    "warnings.filterwarnings('ignore')\n"
   ]
  },
  {
   "cell_type": "markdown",
   "id": "adb9e611",
   "metadata": {},
   "source": [
    "# Perform data preparation & cleaning"
   ]
  },
  {
   "cell_type": "code",
   "execution_count": 3,
   "id": "a6c57284",
   "metadata": {},
   "outputs": [
    {
     "data": {
      "text/html": [
       "<div>\n",
       "<style scoped>\n",
       "    .dataframe tbody tr th:only-of-type {\n",
       "        vertical-align: middle;\n",
       "    }\n",
       "\n",
       "    .dataframe tbody tr th {\n",
       "        vertical-align: top;\n",
       "    }\n",
       "\n",
       "    .dataframe thead th {\n",
       "        text-align: right;\n",
       "    }\n",
       "</style>\n",
       "<table border=\"1\" class=\"dataframe\">\n",
       "  <thead>\n",
       "    <tr style=\"text-align: right;\">\n",
       "      <th></th>\n",
       "      <th>Company</th>\n",
       "      <th>Item</th>\n",
       "      <th>Calories</th>\n",
       "      <th>Calories from\\nFat</th>\n",
       "      <th>Total Fat\\n(g)</th>\n",
       "      <th>Saturated Fat\\n(g)</th>\n",
       "      <th>Trans Fat\\n(g)</th>\n",
       "      <th>Cholesterol\\n(mg)</th>\n",
       "      <th>Sodium \\n(mg)</th>\n",
       "      <th>Carbs\\n(g)</th>\n",
       "      <th>Fiber\\n(g)</th>\n",
       "      <th>Sugars\\n(g)</th>\n",
       "      <th>Protein\\n(g)</th>\n",
       "      <th>Weight Watchers\\nPnts</th>\n",
       "    </tr>\n",
       "  </thead>\n",
       "  <tbody>\n",
       "    <tr>\n",
       "      <th>0</th>\n",
       "      <td>McDonald’s</td>\n",
       "      <td>Hamburger</td>\n",
       "      <td>250</td>\n",
       "      <td>80</td>\n",
       "      <td>9</td>\n",
       "      <td>3.5</td>\n",
       "      <td>0.5</td>\n",
       "      <td>25</td>\n",
       "      <td>520</td>\n",
       "      <td>31</td>\n",
       "      <td>2</td>\n",
       "      <td>6</td>\n",
       "      <td>12</td>\n",
       "      <td>247.5</td>\n",
       "    </tr>\n",
       "    <tr>\n",
       "      <th>1</th>\n",
       "      <td>McDonald’s</td>\n",
       "      <td>Cheeseburger</td>\n",
       "      <td>300</td>\n",
       "      <td>110</td>\n",
       "      <td>12</td>\n",
       "      <td>6</td>\n",
       "      <td>0.5</td>\n",
       "      <td>40</td>\n",
       "      <td>750</td>\n",
       "      <td>33</td>\n",
       "      <td>2</td>\n",
       "      <td>6</td>\n",
       "      <td>15</td>\n",
       "      <td>297</td>\n",
       "    </tr>\n",
       "    <tr>\n",
       "      <th>2</th>\n",
       "      <td>McDonald’s</td>\n",
       "      <td>Double Cheeseburger</td>\n",
       "      <td>440</td>\n",
       "      <td>210</td>\n",
       "      <td>23</td>\n",
       "      <td>11</td>\n",
       "      <td>1.5</td>\n",
       "      <td>80</td>\n",
       "      <td>1150</td>\n",
       "      <td>34</td>\n",
       "      <td>2</td>\n",
       "      <td>7</td>\n",
       "      <td>25</td>\n",
       "      <td>433</td>\n",
       "    </tr>\n",
       "    <tr>\n",
       "      <th>3</th>\n",
       "      <td>McDonald’s</td>\n",
       "      <td>McDouble</td>\n",
       "      <td>390</td>\n",
       "      <td>170</td>\n",
       "      <td>19</td>\n",
       "      <td>8</td>\n",
       "      <td>1</td>\n",
       "      <td>65</td>\n",
       "      <td>920</td>\n",
       "      <td>33</td>\n",
       "      <td>2</td>\n",
       "      <td>7</td>\n",
       "      <td>22</td>\n",
       "      <td>383</td>\n",
       "    </tr>\n",
       "    <tr>\n",
       "      <th>4</th>\n",
       "      <td>McDonald’s</td>\n",
       "      <td>Quarter Pounder® with Cheese</td>\n",
       "      <td>510</td>\n",
       "      <td>230</td>\n",
       "      <td>26</td>\n",
       "      <td>12</td>\n",
       "      <td>1.5</td>\n",
       "      <td>90</td>\n",
       "      <td>1190</td>\n",
       "      <td>40</td>\n",
       "      <td>3</td>\n",
       "      <td>9</td>\n",
       "      <td>29</td>\n",
       "      <td>502</td>\n",
       "    </tr>\n",
       "  </tbody>\n",
       "</table>\n",
       "</div>"
      ],
      "text/plain": [
       "      Company                           Item Calories Calories from\\nFat   \n",
       "0  McDonald’s                      Hamburger      250                 80  \\\n",
       "1  McDonald’s                   Cheeseburger      300                110   \n",
       "2  McDonald’s            Double Cheeseburger      440                210   \n",
       "3  McDonald’s                       McDouble      390                170   \n",
       "4  McDonald’s   Quarter Pounder® with Cheese      510                230   \n",
       "\n",
       "  Total Fat\\n(g) Saturated Fat\\n(g) Trans Fat\\n(g) Cholesterol\\n(mg)   \n",
       "0              9                3.5            0.5                25  \\\n",
       "1             12                  6            0.5                40   \n",
       "2             23                 11            1.5                80   \n",
       "3             19                  8              1                65   \n",
       "4             26                 12            1.5                90   \n",
       "\n",
       "  Sodium \\n(mg) Carbs\\n(g) Fiber\\n(g) Sugars\\n(g) Protein\\n(g)   \n",
       "0           520         31          2           6           12  \\\n",
       "1           750         33          2           6           15   \n",
       "2          1150         34          2           7           25   \n",
       "3           920         33          2           7           22   \n",
       "4          1190         40          3           9           29   \n",
       "\n",
       "  Weight Watchers\\nPnts  \n",
       "0                 247.5  \n",
       "1                   297  \n",
       "2                   433  \n",
       "3                   383  \n",
       "4                   502  "
      ]
     },
     "execution_count": 3,
     "metadata": {},
     "output_type": "execute_result"
    }
   ],
   "source": [
    "df=pd.read_csv('FastFoodNutritionMenu.csv')\n",
    "df.head()"
   ]
  },
  {
   "cell_type": "markdown",
   "id": "30787763",
   "metadata": {},
   "source": [
    "Let see number of missing values.."
   ]
  },
  {
   "cell_type": "code",
   "execution_count": 4,
   "id": "495cd046",
   "metadata": {
    "scrolled": true
   },
   "outputs": [
    {
     "data": {
      "text/plain": [
       "Company                    0\n",
       "Item                       0\n",
       "Calories                   2\n",
       "Calories from\\nFat        61\n",
       "Total Fat\\n(g)            58\n",
       "Saturated Fat\\n(g)        58\n",
       "Trans Fat\\n(g)            58\n",
       "Cholesterol\\n(mg)          2\n",
       "Sodium \\n(mg)              2\n",
       "Carbs\\n(g)                58\n",
       "Fiber\\n(g)                58\n",
       "Sugars\\n(g)                2\n",
       "Protein\\n(g)             132\n",
       "Weight Watchers\\nPnts    635\n",
       "dtype: int64"
      ]
     },
     "execution_count": 4,
     "metadata": {},
     "output_type": "execute_result"
    }
   ],
   "source": [
    "df.isna().sum()"
   ]
  },
  {
   "cell_type": "markdown",
   "id": "be93e32d",
   "metadata": {},
   "source": [
    "To know dtypes of columns...."
   ]
  },
  {
   "cell_type": "code",
   "execution_count": 5,
   "id": "b2474a6f",
   "metadata": {},
   "outputs": [
    {
     "data": {
      "text/plain": [
       "Company                  object\n",
       "Item                     object\n",
       "Calories                 object\n",
       "Calories from\\nFat       object\n",
       "Total Fat\\n(g)           object\n",
       "Saturated Fat\\n(g)       object\n",
       "Trans Fat\\n(g)           object\n",
       "Cholesterol\\n(mg)        object\n",
       "Sodium \\n(mg)            object\n",
       "Carbs\\n(g)               object\n",
       "Fiber\\n(g)               object\n",
       "Sugars\\n(g)              object\n",
       "Protein\\n(g)             object\n",
       "Weight Watchers\\nPnts    object\n",
       "dtype: object"
      ]
     },
     "execution_count": 5,
     "metadata": {},
     "output_type": "execute_result"
    }
   ],
   "source": [
    "df.dtypes"
   ]
  },
  {
   "cell_type": "markdown",
   "id": "e582dfe3",
   "metadata": {},
   "source": [
    "Let see overview of dataset"
   ]
  },
  {
   "cell_type": "code",
   "execution_count": 6,
   "id": "5a2ff605",
   "metadata": {},
   "outputs": [
    {
     "name": "stdout",
     "output_type": "stream",
     "text": [
      "<class 'pandas.core.frame.DataFrame'>\n",
      "RangeIndex: 1159 entries, 0 to 1158\n",
      "Data columns (total 14 columns):\n",
      " #   Column                Non-Null Count  Dtype \n",
      "---  ------                --------------  ----- \n",
      " 0   Company               1159 non-null   object\n",
      " 1   Item                  1159 non-null   object\n",
      " 2   Calories              1157 non-null   object\n",
      " 3   Calories from\n",
      "Fat     1098 non-null   object\n",
      " 4   Total Fat\n",
      "(g)         1101 non-null   object\n",
      " 5   Saturated Fat\n",
      "(g)     1101 non-null   object\n",
      " 6   Trans Fat\n",
      "(g)         1101 non-null   object\n",
      " 7   Cholesterol\n",
      "(mg)      1157 non-null   object\n",
      " 8   Sodium \n",
      "(mg)          1157 non-null   object\n",
      " 9   Carbs\n",
      "(g)             1101 non-null   object\n",
      " 10  Fiber\n",
      "(g)             1101 non-null   object\n",
      " 11  Sugars\n",
      "(g)            1157 non-null   object\n",
      " 12  Protein\n",
      "(g)           1027 non-null   object\n",
      " 13  Weight Watchers\n",
      "Pnts  524 non-null    object\n",
      "dtypes: object(14)\n",
      "memory usage: 126.9+ KB\n"
     ]
    }
   ],
   "source": [
    "df.info()"
   ]
  },
  {
   "cell_type": "markdown",
   "id": "7a58490e",
   "metadata": {},
   "source": [
    "To know number of columns and rows"
   ]
  },
  {
   "cell_type": "code",
   "execution_count": 7,
   "id": "16ccd7ff",
   "metadata": {},
   "outputs": [
    {
     "data": {
      "text/plain": [
       "(1159, 14)"
      ]
     },
     "execution_count": 7,
     "metadata": {},
     "output_type": "execute_result"
    }
   ],
   "source": [
    "df.shape"
   ]
  },
  {
   "cell_type": "markdown",
   "id": "090224e2",
   "metadata": {},
   "source": [
    "To know the Statistic of dataset"
   ]
  },
  {
   "cell_type": "code",
   "execution_count": 8,
   "id": "8ba5ce91",
   "metadata": {},
   "outputs": [
    {
     "data": {
      "text/html": [
       "<div>\n",
       "<style scoped>\n",
       "    .dataframe tbody tr th:only-of-type {\n",
       "        vertical-align: middle;\n",
       "    }\n",
       "\n",
       "    .dataframe tbody tr th {\n",
       "        vertical-align: top;\n",
       "    }\n",
       "\n",
       "    .dataframe thead th {\n",
       "        text-align: right;\n",
       "    }\n",
       "</style>\n",
       "<table border=\"1\" class=\"dataframe\">\n",
       "  <thead>\n",
       "    <tr style=\"text-align: right;\">\n",
       "      <th></th>\n",
       "      <th>Company</th>\n",
       "      <th>Item</th>\n",
       "      <th>Calories</th>\n",
       "      <th>Calories from\\nFat</th>\n",
       "      <th>Total Fat\\n(g)</th>\n",
       "      <th>Saturated Fat\\n(g)</th>\n",
       "      <th>Trans Fat\\n(g)</th>\n",
       "      <th>Cholesterol\\n(mg)</th>\n",
       "      <th>Sodium \\n(mg)</th>\n",
       "      <th>Carbs\\n(g)</th>\n",
       "      <th>Fiber\\n(g)</th>\n",
       "      <th>Sugars\\n(g)</th>\n",
       "      <th>Protein\\n(g)</th>\n",
       "      <th>Weight Watchers\\nPnts</th>\n",
       "    </tr>\n",
       "  </thead>\n",
       "  <tbody>\n",
       "    <tr>\n",
       "      <th>count</th>\n",
       "      <td>1159</td>\n",
       "      <td>1159</td>\n",
       "      <td>1157</td>\n",
       "      <td>1098</td>\n",
       "      <td>1101</td>\n",
       "      <td>1101</td>\n",
       "      <td>1101</td>\n",
       "      <td>1157</td>\n",
       "      <td>1157</td>\n",
       "      <td>1101</td>\n",
       "      <td>1101</td>\n",
       "      <td>1157</td>\n",
       "      <td>1027</td>\n",
       "      <td>524</td>\n",
       "    </tr>\n",
       "    <tr>\n",
       "      <th>unique</th>\n",
       "      <td>6</td>\n",
       "      <td>1083</td>\n",
       "      <td>106</td>\n",
       "      <td>105</td>\n",
       "      <td>70</td>\n",
       "      <td>35</td>\n",
       "      <td>52</td>\n",
       "      <td>153</td>\n",
       "      <td>243</td>\n",
       "      <td>119</td>\n",
       "      <td>95</td>\n",
       "      <td>111</td>\n",
       "      <td>293</td>\n",
       "      <td>356</td>\n",
       "    </tr>\n",
       "    <tr>\n",
       "      <th>top</th>\n",
       "      <td>McDonald’s</td>\n",
       "      <td>29 fl oz</td>\n",
       "      <td>0</td>\n",
       "      <td>0</td>\n",
       "      <td>0</td>\n",
       "      <td>0</td>\n",
       "      <td>0</td>\n",
       "      <td>0</td>\n",
       "      <td>0</td>\n",
       "      <td>0</td>\n",
       "      <td>0</td>\n",
       "      <td>0</td>\n",
       "      <td>0</td>\n",
       "      <td>0</td>\n",
       "    </tr>\n",
       "    <tr>\n",
       "      <th>freq</th>\n",
       "      <td>330</td>\n",
       "      <td>11</td>\n",
       "      <td>83</td>\n",
       "      <td>357</td>\n",
       "      <td>364</td>\n",
       "      <td>616</td>\n",
       "      <td>739</td>\n",
       "      <td>182</td>\n",
       "      <td>85</td>\n",
       "      <td>264</td>\n",
       "      <td>426</td>\n",
       "      <td>267</td>\n",
       "      <td>169</td>\n",
       "      <td>29</td>\n",
       "    </tr>\n",
       "  </tbody>\n",
       "</table>\n",
       "</div>"
      ],
      "text/plain": [
       "           Company      Item Calories Calories from\\nFat Total Fat\\n(g)   \n",
       "count         1159      1159     1157               1098           1101  \\\n",
       "unique           6      1083      106                105             70   \n",
       "top     McDonald’s  29 fl oz        0                  0              0   \n",
       "freq           330        11       83                357            364   \n",
       "\n",
       "       Saturated Fat\\n(g) Trans Fat\\n(g) Cholesterol\\n(mg) Sodium \\n(mg)   \n",
       "count                1101           1101              1157          1157  \\\n",
       "unique                 35             52               153           243   \n",
       "top                     0              0                 0             0   \n",
       "freq                  616            739               182            85   \n",
       "\n",
       "       Carbs\\n(g) Fiber\\n(g) Sugars\\n(g) Protein\\n(g) Weight Watchers\\nPnts  \n",
       "count        1101       1101        1157         1027                   524  \n",
       "unique        119         95         111          293                   356  \n",
       "top             0          0           0            0                     0  \n",
       "freq          264        426         267          169                    29  "
      ]
     },
     "execution_count": 8,
     "metadata": {},
     "output_type": "execute_result"
    }
   ],
   "source": [
    "df.describe()"
   ]
  },
  {
   "cell_type": "markdown",
   "id": "368e580a",
   "metadata": {},
   "source": [
    "Because all data types are object,so statistical data is not in proper way.."
   ]
  },
  {
   "cell_type": "code",
   "execution_count": 9,
   "id": "a57a4f9b",
   "metadata": {},
   "outputs": [
    {
     "data": {
      "text/plain": [
       "Index(['Company', 'Item', 'Calories', 'Calories from\\nFat', 'Total Fat\\n(g)',\n",
       "       'Saturated Fat\\n(g)', 'Trans Fat\\n(g)', 'Cholesterol\\n(mg)',\n",
       "       'Sodium \\n(mg)', 'Carbs\\n(g)', 'Fiber\\n(g)', 'Sugars\\n(g)',\n",
       "       'Protein\\n(g)', 'Weight Watchers\\nPnts'],\n",
       "      dtype='object')"
      ]
     },
     "execution_count": 9,
     "metadata": {},
     "output_type": "execute_result"
    }
   ],
   "source": [
    "df.columns"
   ]
  },
  {
   "cell_type": "markdown",
   "id": "4d67644d",
   "metadata": {},
   "source": [
    "Now we conver all data type from object to numeric"
   ]
  },
  {
   "cell_type": "code",
   "execution_count": 10,
   "id": "824d0d0e",
   "metadata": {},
   "outputs": [],
   "source": [
    "columns_list=['Calories', 'Calories from\\nFat', 'Total Fat\\n(g)',\n",
    "       'Saturated Fat\\n(g)', 'Trans Fat\\n(g)', 'Cholesterol\\n(mg)',\n",
    "       'Sodium \\n(mg)', 'Carbs\\n(g)', 'Fiber\\n(g)', 'Sugars\\n(g)',\n",
    "       'Protein\\n(g)', 'Weight Watchers\\nPnts'\n",
    "             ]\n",
    "for i in columns_list:\n",
    "    df[i]=df[i].apply(lambda x:pd.to_numeric(x,errors='coerce'))"
   ]
  },
  {
   "cell_type": "code",
   "execution_count": 11,
   "id": "e6bb8ee2",
   "metadata": {},
   "outputs": [
    {
     "data": {
      "text/plain": [
       "Company                   object\n",
       "Item                      object\n",
       "Calories                 float64\n",
       "Calories from\\nFat       float64\n",
       "Total Fat\\n(g)           float64\n",
       "Saturated Fat\\n(g)       float64\n",
       "Trans Fat\\n(g)           float64\n",
       "Cholesterol\\n(mg)        float64\n",
       "Sodium \\n(mg)            float64\n",
       "Carbs\\n(g)               float64\n",
       "Fiber\\n(g)               float64\n",
       "Sugars\\n(g)              float64\n",
       "Protein\\n(g)             float64\n",
       "Weight Watchers\\nPnts    float64\n",
       "dtype: object"
      ]
     },
     "execution_count": 11,
     "metadata": {},
     "output_type": "execute_result"
    }
   ],
   "source": [
    "df.dtypes"
   ]
  },
  {
   "cell_type": "markdown",
   "id": "985624fb",
   "metadata": {},
   "source": [
    "Now we will can see statistic data"
   ]
  },
  {
   "cell_type": "code",
   "execution_count": 12,
   "id": "0543f8be",
   "metadata": {},
   "outputs": [
    {
     "data": {
      "text/html": [
       "<div>\n",
       "<style scoped>\n",
       "    .dataframe tbody tr th:only-of-type {\n",
       "        vertical-align: middle;\n",
       "    }\n",
       "\n",
       "    .dataframe tbody tr th {\n",
       "        vertical-align: top;\n",
       "    }\n",
       "\n",
       "    .dataframe thead th {\n",
       "        text-align: right;\n",
       "    }\n",
       "</style>\n",
       "<table border=\"1\" class=\"dataframe\">\n",
       "  <thead>\n",
       "    <tr style=\"text-align: right;\">\n",
       "      <th></th>\n",
       "      <th>Calories</th>\n",
       "      <th>Calories from\\nFat</th>\n",
       "      <th>Total Fat\\n(g)</th>\n",
       "      <th>Saturated Fat\\n(g)</th>\n",
       "      <th>Trans Fat\\n(g)</th>\n",
       "      <th>Cholesterol\\n(mg)</th>\n",
       "      <th>Sodium \\n(mg)</th>\n",
       "      <th>Carbs\\n(g)</th>\n",
       "      <th>Fiber\\n(g)</th>\n",
       "      <th>Sugars\\n(g)</th>\n",
       "      <th>Protein\\n(g)</th>\n",
       "      <th>Weight Watchers\\nPnts</th>\n",
       "    </tr>\n",
       "  </thead>\n",
       "  <tbody>\n",
       "    <tr>\n",
       "      <th>count</th>\n",
       "      <td>1133.000000</td>\n",
       "      <td>1076.000000</td>\n",
       "      <td>1079.000000</td>\n",
       "      <td>1078.000000</td>\n",
       "      <td>1072.000000</td>\n",
       "      <td>1126.000000</td>\n",
       "      <td>1132.000000</td>\n",
       "      <td>1067.000000</td>\n",
       "      <td>1068.000000</td>\n",
       "      <td>1125.000000</td>\n",
       "      <td>1005.000000</td>\n",
       "      <td>504.000000</td>\n",
       "    </tr>\n",
       "    <tr>\n",
       "      <th>mean</th>\n",
       "      <td>287.356575</td>\n",
       "      <td>72.842937</td>\n",
       "      <td>8.914272</td>\n",
       "      <td>2.856215</td>\n",
       "      <td>12.509328</td>\n",
       "      <td>199.658082</td>\n",
       "      <td>271.650177</td>\n",
       "      <td>24.946579</td>\n",
       "      <td>9.780899</td>\n",
       "      <td>18.831111</td>\n",
       "      <td>109.888060</td>\n",
       "      <td>332.915675</td>\n",
       "    </tr>\n",
       "    <tr>\n",
       "      <th>std</th>\n",
       "      <td>222.135591</td>\n",
       "      <td>114.344646</td>\n",
       "      <td>12.540780</td>\n",
       "      <td>4.767940</td>\n",
       "      <td>36.949563</td>\n",
       "      <td>366.581740</td>\n",
       "      <td>433.930301</td>\n",
       "      <td>30.873280</td>\n",
       "      <td>23.895287</td>\n",
       "      <td>26.642618</td>\n",
       "      <td>186.424327</td>\n",
       "      <td>249.902081</td>\n",
       "    </tr>\n",
       "    <tr>\n",
       "      <th>min</th>\n",
       "      <td>0.000000</td>\n",
       "      <td>0.000000</td>\n",
       "      <td>0.000000</td>\n",
       "      <td>0.000000</td>\n",
       "      <td>0.000000</td>\n",
       "      <td>0.000000</td>\n",
       "      <td>0.000000</td>\n",
       "      <td>0.000000</td>\n",
       "      <td>0.000000</td>\n",
       "      <td>0.000000</td>\n",
       "      <td>0.000000</td>\n",
       "      <td>0.000000</td>\n",
       "    </tr>\n",
       "    <tr>\n",
       "      <th>25%</th>\n",
       "      <td>140.000000</td>\n",
       "      <td>0.000000</td>\n",
       "      <td>0.000000</td>\n",
       "      <td>0.000000</td>\n",
       "      <td>0.000000</td>\n",
       "      <td>10.000000</td>\n",
       "      <td>27.000000</td>\n",
       "      <td>1.000000</td>\n",
       "      <td>0.000000</td>\n",
       "      <td>1.000000</td>\n",
       "      <td>4.000000</td>\n",
       "      <td>164.375000</td>\n",
       "    </tr>\n",
       "    <tr>\n",
       "      <th>50%</th>\n",
       "      <td>240.000000</td>\n",
       "      <td>16.000000</td>\n",
       "      <td>4.000000</td>\n",
       "      <td>0.000000</td>\n",
       "      <td>0.000000</td>\n",
       "      <td>50.000000</td>\n",
       "      <td>70.000000</td>\n",
       "      <td>13.000000</td>\n",
       "      <td>1.000000</td>\n",
       "      <td>8.000000</td>\n",
       "      <td>13.000000</td>\n",
       "      <td>280.000000</td>\n",
       "    </tr>\n",
       "    <tr>\n",
       "      <th>75%</th>\n",
       "      <td>390.000000</td>\n",
       "      <td>100.000000</td>\n",
       "      <td>12.500000</td>\n",
       "      <td>4.500000</td>\n",
       "      <td>1.500000</td>\n",
       "      <td>190.000000</td>\n",
       "      <td>252.500000</td>\n",
       "      <td>41.000000</td>\n",
       "      <td>5.000000</td>\n",
       "      <td>27.000000</td>\n",
       "      <td>166.000000</td>\n",
       "      <td>441.500000</td>\n",
       "    </tr>\n",
       "    <tr>\n",
       "      <th>max</th>\n",
       "      <td>1220.000000</td>\n",
       "      <td>750.000000</td>\n",
       "      <td>84.000000</td>\n",
       "      <td>33.000000</td>\n",
       "      <td>420.000000</td>\n",
       "      <td>2890.000000</td>\n",
       "      <td>2840.000000</td>\n",
       "      <td>203.000000</td>\n",
       "      <td>264.000000</td>\n",
       "      <td>168.000000</td>\n",
       "      <td>1220.000000</td>\n",
       "      <td>1317.000000</td>\n",
       "    </tr>\n",
       "  </tbody>\n",
       "</table>\n",
       "</div>"
      ],
      "text/plain": [
       "          Calories  Calories from\\nFat  Total Fat\\n(g)  Saturated Fat\\n(g)   \n",
       "count  1133.000000         1076.000000     1079.000000         1078.000000  \\\n",
       "mean    287.356575           72.842937        8.914272            2.856215   \n",
       "std     222.135591          114.344646       12.540780            4.767940   \n",
       "min       0.000000            0.000000        0.000000            0.000000   \n",
       "25%     140.000000            0.000000        0.000000            0.000000   \n",
       "50%     240.000000           16.000000        4.000000            0.000000   \n",
       "75%     390.000000          100.000000       12.500000            4.500000   \n",
       "max    1220.000000          750.000000       84.000000           33.000000   \n",
       "\n",
       "       Trans Fat\\n(g)  Cholesterol\\n(mg)  Sodium \\n(mg)   Carbs\\n(g)   \n",
       "count     1072.000000        1126.000000    1132.000000  1067.000000  \\\n",
       "mean        12.509328         199.658082     271.650177    24.946579   \n",
       "std         36.949563         366.581740     433.930301    30.873280   \n",
       "min          0.000000           0.000000       0.000000     0.000000   \n",
       "25%          0.000000          10.000000      27.000000     1.000000   \n",
       "50%          0.000000          50.000000      70.000000    13.000000   \n",
       "75%          1.500000         190.000000     252.500000    41.000000   \n",
       "max        420.000000        2890.000000    2840.000000   203.000000   \n",
       "\n",
       "        Fiber\\n(g)  Sugars\\n(g)  Protein\\n(g)  Weight Watchers\\nPnts  \n",
       "count  1068.000000  1125.000000   1005.000000             504.000000  \n",
       "mean      9.780899    18.831111    109.888060             332.915675  \n",
       "std      23.895287    26.642618    186.424327             249.902081  \n",
       "min       0.000000     0.000000      0.000000               0.000000  \n",
       "25%       0.000000     1.000000      4.000000             164.375000  \n",
       "50%       1.000000     8.000000     13.000000             280.000000  \n",
       "75%       5.000000    27.000000    166.000000             441.500000  \n",
       "max     264.000000   168.000000   1220.000000            1317.000000  "
      ]
     },
     "execution_count": 12,
     "metadata": {},
     "output_type": "execute_result"
    }
   ],
   "source": [
    "df.describe()"
   ]
  },
  {
   "cell_type": "markdown",
   "id": "d53b5038",
   "metadata": {},
   "source": [
    "If you cross the Calories level above 900,this will damage you body"
   ]
  },
  {
   "cell_type": "code",
   "execution_count": 13,
   "id": "94882f23",
   "metadata": {},
   "outputs": [
    {
     "data": {
      "text/plain": [
       "(1159, 14)"
      ]
     },
     "execution_count": 13,
     "metadata": {},
     "output_type": "execute_result"
    }
   ],
   "source": [
    "df.shape"
   ]
  },
  {
   "cell_type": "code",
   "execution_count": 14,
   "id": "5af567d5",
   "metadata": {},
   "outputs": [
    {
     "data": {
      "text/plain": [
       "(1109, 14)"
      ]
     },
     "execution_count": 14,
     "metadata": {},
     "output_type": "execute_result"
    }
   ],
   "source": [
    "df1=df[df.Calories<900]\n",
    "df1.shape"
   ]
  },
  {
   "cell_type": "markdown",
   "id": "21312868",
   "metadata": {},
   "source": [
    "Fat must be less than 40% of Calories"
   ]
  },
  {
   "cell_type": "code",
   "execution_count": 15,
   "id": "1279043f",
   "metadata": {},
   "outputs": [
    {
     "data": {
      "text/plain": [
       "(984, 14)"
      ]
     },
     "execution_count": 15,
     "metadata": {},
     "output_type": "execute_result"
    }
   ],
   "source": [
    "df1=df1[((df1['Total Fat\\n(g)']/df1['Calories'])*100)<40]\n",
    "df1.shape"
   ]
  },
  {
   "cell_type": "markdown",
   "id": "47b2fd14",
   "metadata": {},
   "source": [
    "Ignore tha fast food that contain 0 Protein"
   ]
  },
  {
   "cell_type": "code",
   "execution_count": 16,
   "id": "a0978997",
   "metadata": {},
   "outputs": [
    {
     "data": {
      "text/plain": [
       "(812, 14)"
      ]
     },
     "execution_count": 16,
     "metadata": {},
     "output_type": "execute_result"
    }
   ],
   "source": [
    "df1=df1[df1['Protein\\n(g)']>0]\n",
    "df1.shape"
   ]
  },
  {
   "cell_type": "markdown",
   "id": "6ae4635b",
   "metadata": {},
   "source": [
    "Sugar Amount\n",
    "\n",
    "- For male 36 gram per day\n",
    "- For female 25 gram per day\n",
    "\n",
    "So we consider atmost 25 gram is not that bad for both of them.\n"
   ]
  },
  {
   "cell_type": "code",
   "execution_count": 17,
   "id": "cfe95448",
   "metadata": {},
   "outputs": [
    {
     "data": {
      "text/plain": [
       "(617, 14)"
      ]
     },
     "execution_count": 17,
     "metadata": {},
     "output_type": "execute_result"
    }
   ],
   "source": [
    "df1=df1[df1['Sugars\\n(g)']<=25]\n",
    "df1.shape"
   ]
  },
  {
   "cell_type": "markdown",
   "id": "c601ce1a",
   "metadata": {},
   "source": [
    "DataFrame with selected columns.."
   ]
  },
  {
   "cell_type": "code",
   "execution_count": 18,
   "id": "870db85f",
   "metadata": {},
   "outputs": [
    {
     "data": {
      "text/plain": [
       "Index(['Company', 'Item', 'Calories', 'Calories from\\nFat', 'Total Fat\\n(g)',\n",
       "       'Saturated Fat\\n(g)', 'Trans Fat\\n(g)', 'Cholesterol\\n(mg)',\n",
       "       'Sodium \\n(mg)', 'Carbs\\n(g)', 'Fiber\\n(g)', 'Sugars\\n(g)',\n",
       "       'Protein\\n(g)', 'Weight Watchers\\nPnts'],\n",
       "      dtype='object')"
      ]
     },
     "execution_count": 18,
     "metadata": {},
     "output_type": "execute_result"
    }
   ],
   "source": [
    "df1.columns"
   ]
  },
  {
   "cell_type": "code",
   "execution_count": 19,
   "id": "b45712d1",
   "metadata": {},
   "outputs": [
    {
     "data": {
      "text/html": [
       "<div>\n",
       "<style scoped>\n",
       "    .dataframe tbody tr th:only-of-type {\n",
       "        vertical-align: middle;\n",
       "    }\n",
       "\n",
       "    .dataframe tbody tr th {\n",
       "        vertical-align: top;\n",
       "    }\n",
       "\n",
       "    .dataframe thead th {\n",
       "        text-align: right;\n",
       "    }\n",
       "</style>\n",
       "<table border=\"1\" class=\"dataframe\">\n",
       "  <thead>\n",
       "    <tr style=\"text-align: right;\">\n",
       "      <th></th>\n",
       "      <th>Company</th>\n",
       "      <th>Item</th>\n",
       "      <th>Calories</th>\n",
       "      <th>Total Fat\\n(g)</th>\n",
       "      <th>Sugars\\n(g)</th>\n",
       "      <th>Protein\\n(g)</th>\n",
       "    </tr>\n",
       "  </thead>\n",
       "  <tbody>\n",
       "    <tr>\n",
       "      <th>0</th>\n",
       "      <td>McDonald’s</td>\n",
       "      <td>Hamburger</td>\n",
       "      <td>250.0</td>\n",
       "      <td>9.0</td>\n",
       "      <td>6.0</td>\n",
       "      <td>12.0</td>\n",
       "    </tr>\n",
       "    <tr>\n",
       "      <th>1</th>\n",
       "      <td>McDonald’s</td>\n",
       "      <td>Cheeseburger</td>\n",
       "      <td>300.0</td>\n",
       "      <td>12.0</td>\n",
       "      <td>6.0</td>\n",
       "      <td>15.0</td>\n",
       "    </tr>\n",
       "    <tr>\n",
       "      <th>2</th>\n",
       "      <td>McDonald’s</td>\n",
       "      <td>Double Cheeseburger</td>\n",
       "      <td>440.0</td>\n",
       "      <td>23.0</td>\n",
       "      <td>7.0</td>\n",
       "      <td>25.0</td>\n",
       "    </tr>\n",
       "    <tr>\n",
       "      <th>3</th>\n",
       "      <td>McDonald’s</td>\n",
       "      <td>McDouble</td>\n",
       "      <td>390.0</td>\n",
       "      <td>19.0</td>\n",
       "      <td>7.0</td>\n",
       "      <td>22.0</td>\n",
       "    </tr>\n",
       "    <tr>\n",
       "      <th>4</th>\n",
       "      <td>McDonald’s</td>\n",
       "      <td>Quarter Pounder® with Cheese</td>\n",
       "      <td>510.0</td>\n",
       "      <td>26.0</td>\n",
       "      <td>9.0</td>\n",
       "      <td>29.0</td>\n",
       "    </tr>\n",
       "  </tbody>\n",
       "</table>\n",
       "</div>"
      ],
      "text/plain": [
       "      Company                           Item  Calories  Total Fat\\n(g)   \n",
       "0  McDonald’s                      Hamburger     250.0             9.0  \\\n",
       "1  McDonald’s                   Cheeseburger     300.0            12.0   \n",
       "2  McDonald’s            Double Cheeseburger     440.0            23.0   \n",
       "3  McDonald’s                       McDouble     390.0            19.0   \n",
       "4  McDonald’s   Quarter Pounder® with Cheese     510.0            26.0   \n",
       "\n",
       "   Sugars\\n(g)  Protein\\n(g)  \n",
       "0          6.0          12.0  \n",
       "1          6.0          15.0  \n",
       "2          7.0          25.0  \n",
       "3          7.0          22.0  \n",
       "4          9.0          29.0  "
      ]
     },
     "execution_count": 19,
     "metadata": {},
     "output_type": "execute_result"
    }
   ],
   "source": [
    "list_of_column=['Company', 'Item', 'Calories','Total Fat\\n(g)','Sugars\\n(g)','Protein\\n(g)']\n",
    "df2=df1[list_of_column]\n",
    "df2.head()"
   ]
  },
  {
   "cell_type": "code",
   "execution_count": 20,
   "id": "cf4ab83a",
   "metadata": {},
   "outputs": [
    {
     "data": {
      "text/plain": [
       "Company           0\n",
       "Item              0\n",
       "Calories          0\n",
       "Total Fat\\n(g)    0\n",
       "Sugars\\n(g)       0\n",
       "Protein\\n(g)      0\n",
       "dtype: int64"
      ]
     },
     "execution_count": 20,
     "metadata": {},
     "output_type": "execute_result"
    }
   ],
   "source": [
    "df2.isna().sum()"
   ]
  },
  {
   "cell_type": "markdown",
   "id": "b4174116",
   "metadata": {},
   "source": [
    "#  Perform exploratory analysis & visualization"
   ]
  },
  {
   "cell_type": "markdown",
   "id": "ce6198c4",
   "metadata": {},
   "source": [
    "### The Company with high number of products"
   ]
  },
  {
   "cell_type": "code",
   "execution_count": 21,
   "id": "4d7b4ab5",
   "metadata": {
    "scrolled": false
   },
   "outputs": [
    {
     "data": {
      "text/plain": [
       "Text(0, 0.5, 'Product Count')"
      ]
     },
     "execution_count": 21,
     "metadata": {},
     "output_type": "execute_result"
    },
    {
     "data": {
      "image/png": "[encoded data removed]",
      "text/plain": [
       "<Figure size 640x480 with 1 Axes>"
      ]
     },
     "metadata": {},
     "output_type": "display_data"
    }
   ],
   "source": [
    "df2.Company.value_counts().plot(kind='bar',title=\"Product count VS Company\")\n",
    "plt.ylabel(\"Product Count\")"
   ]
  },
  {
   "cell_type": "markdown",
   "id": "2e8614f7",
   "metadata": {},
   "source": [
    "From above Fig\n",
    "\n",
    "- KFC Company has more number of product\n",
    "- Burger King has less number of product\n"
   ]
  },
  {
   "cell_type": "markdown",
   "id": "dae60cb2",
   "metadata": {},
   "source": [
    "###  Relation between Total Fat and Calories"
   ]
  },
  {
   "cell_type": "code",
   "execution_count": 22,
   "id": "8b5af39e",
   "metadata": {},
   "outputs": [
    {
     "data": {
      "text/html": [
       "<div>\n",
       "<style scoped>\n",
       "    .dataframe tbody tr th:only-of-type {\n",
       "        vertical-align: middle;\n",
       "    }\n",
       "\n",
       "    .dataframe tbody tr th {\n",
       "        vertical-align: top;\n",
       "    }\n",
       "\n",
       "    .dataframe thead th {\n",
       "        text-align: right;\n",
       "    }\n",
       "</style>\n",
       "<table border=\"1\" class=\"dataframe\">\n",
       "  <thead>\n",
       "    <tr style=\"text-align: right;\">\n",
       "      <th></th>\n",
       "      <th>Company</th>\n",
       "      <th>Item</th>\n",
       "      <th>Calories</th>\n",
       "      <th>Total Fat\\n(g)</th>\n",
       "      <th>Sugars\\n(g)</th>\n",
       "      <th>Protein\\n(g)</th>\n",
       "    </tr>\n",
       "  </thead>\n",
       "  <tbody>\n",
       "    <tr>\n",
       "      <th>0</th>\n",
       "      <td>McDonald’s</td>\n",
       "      <td>Hamburger</td>\n",
       "      <td>250.0</td>\n",
       "      <td>9.0</td>\n",
       "      <td>6.0</td>\n",
       "      <td>12.0</td>\n",
       "    </tr>\n",
       "    <tr>\n",
       "      <th>1</th>\n",
       "      <td>McDonald’s</td>\n",
       "      <td>Cheeseburger</td>\n",
       "      <td>300.0</td>\n",
       "      <td>12.0</td>\n",
       "      <td>6.0</td>\n",
       "      <td>15.0</td>\n",
       "    </tr>\n",
       "    <tr>\n",
       "      <th>2</th>\n",
       "      <td>McDonald’s</td>\n",
       "      <td>Double Cheeseburger</td>\n",
       "      <td>440.0</td>\n",
       "      <td>23.0</td>\n",
       "      <td>7.0</td>\n",
       "      <td>25.0</td>\n",
       "    </tr>\n",
       "    <tr>\n",
       "      <th>3</th>\n",
       "      <td>McDonald’s</td>\n",
       "      <td>McDouble</td>\n",
       "      <td>390.0</td>\n",
       "      <td>19.0</td>\n",
       "      <td>7.0</td>\n",
       "      <td>22.0</td>\n",
       "    </tr>\n",
       "    <tr>\n",
       "      <th>4</th>\n",
       "      <td>McDonald’s</td>\n",
       "      <td>Quarter Pounder® with Cheese</td>\n",
       "      <td>510.0</td>\n",
       "      <td>26.0</td>\n",
       "      <td>9.0</td>\n",
       "      <td>29.0</td>\n",
       "    </tr>\n",
       "  </tbody>\n",
       "</table>\n",
       "</div>"
      ],
      "text/plain": [
       "      Company                           Item  Calories  Total Fat\\n(g)   \n",
       "0  McDonald’s                      Hamburger     250.0             9.0  \\\n",
       "1  McDonald’s                   Cheeseburger     300.0            12.0   \n",
       "2  McDonald’s            Double Cheeseburger     440.0            23.0   \n",
       "3  McDonald’s                       McDouble     390.0            19.0   \n",
       "4  McDonald’s   Quarter Pounder® with Cheese     510.0            26.0   \n",
       "\n",
       "   Sugars\\n(g)  Protein\\n(g)  \n",
       "0          6.0          12.0  \n",
       "1          6.0          15.0  \n",
       "2          7.0          25.0  \n",
       "3          7.0          22.0  \n",
       "4          9.0          29.0  "
      ]
     },
     "execution_count": 22,
     "metadata": {},
     "output_type": "execute_result"
    }
   ],
   "source": [
    "df2.head()"
   ]
  },
  {
   "cell_type": "code",
   "execution_count": 23,
   "id": "d4efe60b",
   "metadata": {
    "scrolled": false
   },
   "outputs": [
    {
     "data": {
      "image/png": "[encoded data removed]",
      "text/plain": [
       "<Figure size 640x480 with 1 Axes>"
      ]
     },
     "metadata": {},
     "output_type": "display_data"
    }
   ],
   "source": [
    "df2.groupby('Calories')['Total Fat\\n(g)'].mean().sort_index().plot(title=\"Total Fat VS Calories\");\n",
    "plt.ylabel(\"Total Fat\");"
   ]
  },
  {
   "cell_type": "markdown",
   "id": "0721ed1c",
   "metadata": {},
   "source": [
    "From above Fig\n",
    "- As Calories increases, Fat also increases\n",
    "- Both are directly proportional to each other\n",
    "- Increasing rate is high"
   ]
  },
  {
   "cell_type": "markdown",
   "id": "1fee26ce",
   "metadata": {},
   "source": [
    "###  Relation between Sugar and Calories"
   ]
  },
  {
   "cell_type": "code",
   "execution_count": 24,
   "id": "c5e19460",
   "metadata": {},
   "outputs": [
    {
     "data": {
      "text/plain": [
       "Text(0, 0.5, 'Sugar')"
      ]
     },
     "execution_count": 24,
     "metadata": {},
     "output_type": "execute_result"
    },
    {
     "data": {
      "image/png": "[encoded data removed]",
      "text/plain": [
       "<Figure size 640x480 with 1 Axes>"
      ]
     },
     "metadata": {},
     "output_type": "display_data"
    }
   ],
   "source": [
    "df2.groupby(\"Calories\")['Sugars\\n(g)'].mean().sort_index().plot(title='Sugar VS Calories')\n",
    "plt.ylabel(\"Sugar\")\n"
   ]
  },
  {
   "cell_type": "markdown",
   "id": "2f524ef3",
   "metadata": {},
   "source": [
    "From above Fig\n",
    "\n",
    "- As Calories increases Sugar also increases\n",
    "- Both are directly proportional to each other\n",
    "- Increasing rate is slow\n",
    "- The Calories at 400,500,600 contain high amount of sugar"
   ]
  },
  {
   "cell_type": "markdown",
   "id": "81a6ccab",
   "metadata": {},
   "source": [
    "### Relation between Fat and Protein"
   ]
  },
  {
   "cell_type": "code",
   "execution_count": 25,
   "id": "75469407",
   "metadata": {
    "scrolled": false
   },
   "outputs": [
    {
     "data": {
      "text/plain": [
       "Text(0.5, 1.0, 'Fat VS Protein')"
      ]
     },
     "execution_count": 25,
     "metadata": {},
     "output_type": "execute_result"
    },
    {
     "data": {
      "image/png": "[encoded data removed]",
      "text/plain": [
       "<Figure size 640x480 with 1 Axes>"
      ]
     },
     "metadata": {},
     "output_type": "display_data"
    }
   ],
   "source": [
    "sns.scatterplot(data=df2,x=df2['Protein\\n(g)'],y=df2['Total Fat\\n(g)'])\n",
    "plt.title(\"Fat VS Protein\")"
   ]
  },
  {
   "cell_type": "markdown",
   "id": "b085507c",
   "metadata": {},
   "source": [
    "From above Fig\n",
    "- Fat is high where protein is less\n",
    "- Where Protein is high where Fat is less\n",
    "- We cannot say they are inversely proportional, because when protein is increases,fat also increases but in very poor amount \n"
   ]
  },
  {
   "cell_type": "markdown",
   "id": "f7e46805",
   "metadata": {},
   "source": [
    "### Amount of Nutritions are consume by Merket"
   ]
  },
  {
   "cell_type": "code",
   "execution_count": 26,
   "id": "53a88770",
   "metadata": {},
   "outputs": [
    {
     "data": {
      "text/html": [
       "<div>\n",
       "<style scoped>\n",
       "    .dataframe tbody tr th:only-of-type {\n",
       "        vertical-align: middle;\n",
       "    }\n",
       "\n",
       "    .dataframe tbody tr th {\n",
       "        vertical-align: top;\n",
       "    }\n",
       "\n",
       "    .dataframe thead th {\n",
       "        text-align: right;\n",
       "    }\n",
       "</style>\n",
       "<table border=\"1\" class=\"dataframe\">\n",
       "  <thead>\n",
       "    <tr style=\"text-align: right;\">\n",
       "      <th></th>\n",
       "      <th>Company</th>\n",
       "      <th>Item</th>\n",
       "      <th>Calories</th>\n",
       "      <th>Total Fat\\n(g)</th>\n",
       "      <th>Sugars\\n(g)</th>\n",
       "      <th>Protein\\n(g)</th>\n",
       "    </tr>\n",
       "  </thead>\n",
       "  <tbody>\n",
       "    <tr>\n",
       "      <th>0</th>\n",
       "      <td>McDonald’s</td>\n",
       "      <td>Hamburger</td>\n",
       "      <td>250.0</td>\n",
       "      <td>9.0</td>\n",
       "      <td>6.0</td>\n",
       "      <td>12.0</td>\n",
       "    </tr>\n",
       "    <tr>\n",
       "      <th>1</th>\n",
       "      <td>McDonald’s</td>\n",
       "      <td>Cheeseburger</td>\n",
       "      <td>300.0</td>\n",
       "      <td>12.0</td>\n",
       "      <td>6.0</td>\n",
       "      <td>15.0</td>\n",
       "    </tr>\n",
       "    <tr>\n",
       "      <th>2</th>\n",
       "      <td>McDonald’s</td>\n",
       "      <td>Double Cheeseburger</td>\n",
       "      <td>440.0</td>\n",
       "      <td>23.0</td>\n",
       "      <td>7.0</td>\n",
       "      <td>25.0</td>\n",
       "    </tr>\n",
       "    <tr>\n",
       "      <th>3</th>\n",
       "      <td>McDonald’s</td>\n",
       "      <td>McDouble</td>\n",
       "      <td>390.0</td>\n",
       "      <td>19.0</td>\n",
       "      <td>7.0</td>\n",
       "      <td>22.0</td>\n",
       "    </tr>\n",
       "    <tr>\n",
       "      <th>4</th>\n",
       "      <td>McDonald’s</td>\n",
       "      <td>Quarter Pounder® with Cheese</td>\n",
       "      <td>510.0</td>\n",
       "      <td>26.0</td>\n",
       "      <td>9.0</td>\n",
       "      <td>29.0</td>\n",
       "    </tr>\n",
       "  </tbody>\n",
       "</table>\n",
       "</div>"
      ],
      "text/plain": [
       "      Company                           Item  Calories  Total Fat\\n(g)   \n",
       "0  McDonald’s                      Hamburger     250.0             9.0  \\\n",
       "1  McDonald’s                   Cheeseburger     300.0            12.0   \n",
       "2  McDonald’s            Double Cheeseburger     440.0            23.0   \n",
       "3  McDonald’s                       McDouble     390.0            19.0   \n",
       "4  McDonald’s   Quarter Pounder® with Cheese     510.0            26.0   \n",
       "\n",
       "   Sugars\\n(g)  Protein\\n(g)  \n",
       "0          6.0          12.0  \n",
       "1          6.0          15.0  \n",
       "2          7.0          25.0  \n",
       "3          7.0          22.0  \n",
       "4          9.0          29.0  "
      ]
     },
     "execution_count": 26,
     "metadata": {},
     "output_type": "execute_result"
    }
   ],
   "source": [
    "df2.head()"
   ]
  },
  {
   "cell_type": "code",
   "execution_count": 27,
   "id": "883128a9",
   "metadata": {},
   "outputs": [
    {
     "data": {
      "text/plain": [
       "Index(['Company', 'Item', 'Calories', 'Total Fat\\n(g)', 'Sugars\\n(g)',\n",
       "       'Protein\\n(g)'],\n",
       "      dtype='object')"
      ]
     },
     "execution_count": 27,
     "metadata": {},
     "output_type": "execute_result"
    }
   ],
   "source": [
    "df2.columns"
   ]
  },
  {
   "cell_type": "code",
   "execution_count": 28,
   "id": "6948c171",
   "metadata": {},
   "outputs": [
    {
     "data": {
      "image/png": "[encoded data removed]",
      "text/plain": [
       "<Figure size 640x480 with 2 Axes>"
      ]
     },
     "metadata": {},
     "output_type": "display_data"
    }
   ],
   "source": [
    "mean_of_data=df2[['Company', 'Calories', 'Total Fat\\n(g)', 'Sugars\\n(g)',\n",
    "       'Protein\\n(g)']].groupby('Company').mean()\n",
    "sns.heatmap(data=mean_of_data, cmap=\"BuPu\",annot=True);\n",
    "plt.title(\"Amount of Nutrition's supply to Market\");"
   ]
  },
  {
   "cell_type": "markdown",
   "id": "e168eb00",
   "metadata": {},
   "source": [
    "From above Fig\n",
    "\n",
    "- We say that, Burger King is 1st & Taco Bell is 2nd, who supply more Calories to Market\n",
    "- Wendy's play a major role in supplying Protein to Market\n",
    "- KFC maintain it's ratio of supplying protein & Calories in almost same amount."
   ]
  },
  {
   "cell_type": "markdown",
   "id": "34fdf84e",
   "metadata": {},
   "source": [
    "# Ask & answer questions about the data"
   ]
  },
  {
   "cell_type": "code",
   "execution_count": 29,
   "id": "7b3ed2b3",
   "metadata": {
    "scrolled": true
   },
   "outputs": [
    {
     "data": {
      "text/html": [
       "<div>\n",
       "<style scoped>\n",
       "    .dataframe tbody tr th:only-of-type {\n",
       "        vertical-align: middle;\n",
       "    }\n",
       "\n",
       "    .dataframe tbody tr th {\n",
       "        vertical-align: top;\n",
       "    }\n",
       "\n",
       "    .dataframe thead th {\n",
       "        text-align: right;\n",
       "    }\n",
       "</style>\n",
       "<table border=\"1\" class=\"dataframe\">\n",
       "  <thead>\n",
       "    <tr style=\"text-align: right;\">\n",
       "      <th></th>\n",
       "      <th>Company</th>\n",
       "      <th>Item</th>\n",
       "      <th>Calories</th>\n",
       "      <th>Total Fat\\n(g)</th>\n",
       "      <th>Sugars\\n(g)</th>\n",
       "      <th>Protein\\n(g)</th>\n",
       "    </tr>\n",
       "  </thead>\n",
       "  <tbody>\n",
       "    <tr>\n",
       "      <th>0</th>\n",
       "      <td>McDonald’s</td>\n",
       "      <td>Hamburger</td>\n",
       "      <td>250.0</td>\n",
       "      <td>9.0</td>\n",
       "      <td>6.0</td>\n",
       "      <td>12.0</td>\n",
       "    </tr>\n",
       "    <tr>\n",
       "      <th>1</th>\n",
       "      <td>McDonald’s</td>\n",
       "      <td>Cheeseburger</td>\n",
       "      <td>300.0</td>\n",
       "      <td>12.0</td>\n",
       "      <td>6.0</td>\n",
       "      <td>15.0</td>\n",
       "    </tr>\n",
       "    <tr>\n",
       "      <th>2</th>\n",
       "      <td>McDonald’s</td>\n",
       "      <td>Double Cheeseburger</td>\n",
       "      <td>440.0</td>\n",
       "      <td>23.0</td>\n",
       "      <td>7.0</td>\n",
       "      <td>25.0</td>\n",
       "    </tr>\n",
       "    <tr>\n",
       "      <th>3</th>\n",
       "      <td>McDonald’s</td>\n",
       "      <td>McDouble</td>\n",
       "      <td>390.0</td>\n",
       "      <td>19.0</td>\n",
       "      <td>7.0</td>\n",
       "      <td>22.0</td>\n",
       "    </tr>\n",
       "    <tr>\n",
       "      <th>4</th>\n",
       "      <td>McDonald’s</td>\n",
       "      <td>Quarter Pounder® with Cheese</td>\n",
       "      <td>510.0</td>\n",
       "      <td>26.0</td>\n",
       "      <td>9.0</td>\n",
       "      <td>29.0</td>\n",
       "    </tr>\n",
       "  </tbody>\n",
       "</table>\n",
       "</div>"
      ],
      "text/plain": [
       "      Company                           Item  Calories  Total Fat\\n(g)   \n",
       "0  McDonald’s                      Hamburger     250.0             9.0  \\\n",
       "1  McDonald’s                   Cheeseburger     300.0            12.0   \n",
       "2  McDonald’s            Double Cheeseburger     440.0            23.0   \n",
       "3  McDonald’s                       McDouble     390.0            19.0   \n",
       "4  McDonald’s   Quarter Pounder® with Cheese     510.0            26.0   \n",
       "\n",
       "   Sugars\\n(g)  Protein\\n(g)  \n",
       "0          6.0          12.0  \n",
       "1          6.0          15.0  \n",
       "2          7.0          25.0  \n",
       "3          7.0          22.0  \n",
       "4          9.0          29.0  "
      ]
     },
     "execution_count": 29,
     "metadata": {},
     "output_type": "execute_result"
    }
   ],
   "source": [
    "df2.head()"
   ]
  },
  {
   "cell_type": "markdown",
   "id": "0dbd9781",
   "metadata": {},
   "source": [
    "## Q) How many Burger's are supply by each Company?"
   ]
  },
  {
   "cell_type": "code",
   "execution_count": 30,
   "id": "bf42d36f",
   "metadata": {},
   "outputs": [
    {
     "data": {
      "text/html": [
       "<div>\n",
       "<style scoped>\n",
       "    .dataframe tbody tr th:only-of-type {\n",
       "        vertical-align: middle;\n",
       "    }\n",
       "\n",
       "    .dataframe tbody tr th {\n",
       "        vertical-align: top;\n",
       "    }\n",
       "\n",
       "    .dataframe thead th {\n",
       "        text-align: right;\n",
       "    }\n",
       "</style>\n",
       "<table border=\"1\" class=\"dataframe\">\n",
       "  <thead>\n",
       "    <tr style=\"text-align: right;\">\n",
       "      <th></th>\n",
       "      <th>Company</th>\n",
       "      <th>Item</th>\n",
       "      <th>Calories</th>\n",
       "      <th>Total Fat\\n(g)</th>\n",
       "      <th>Sugars\\n(g)</th>\n",
       "      <th>Protein\\n(g)</th>\n",
       "    </tr>\n",
       "  </thead>\n",
       "  <tbody>\n",
       "    <tr>\n",
       "      <th>0</th>\n",
       "      <td>McDonald’s</td>\n",
       "      <td>Hamburger</td>\n",
       "      <td>250.0</td>\n",
       "      <td>9.0</td>\n",
       "      <td>6.0</td>\n",
       "      <td>12.0</td>\n",
       "    </tr>\n",
       "    <tr>\n",
       "      <th>1</th>\n",
       "      <td>McDonald’s</td>\n",
       "      <td>Cheeseburger</td>\n",
       "      <td>300.0</td>\n",
       "      <td>12.0</td>\n",
       "      <td>6.0</td>\n",
       "      <td>15.0</td>\n",
       "    </tr>\n",
       "    <tr>\n",
       "      <th>2</th>\n",
       "      <td>McDonald’s</td>\n",
       "      <td>Double Cheeseburger</td>\n",
       "      <td>440.0</td>\n",
       "      <td>23.0</td>\n",
       "      <td>7.0</td>\n",
       "      <td>25.0</td>\n",
       "    </tr>\n",
       "    <tr>\n",
       "      <th>102</th>\n",
       "      <td>McDonald’s</td>\n",
       "      <td>Hamburger Happy Meal</td>\n",
       "      <td>475.0</td>\n",
       "      <td>16.0</td>\n",
       "      <td>20.0</td>\n",
       "      <td>22.0</td>\n",
       "    </tr>\n",
       "    <tr>\n",
       "      <th>346</th>\n",
       "      <td>Burger King</td>\n",
       "      <td>Hamburger</td>\n",
       "      <td>240.0</td>\n",
       "      <td>10.0</td>\n",
       "      <td>6.0</td>\n",
       "      <td>13.0</td>\n",
       "    </tr>\n",
       "  </tbody>\n",
       "</table>\n",
       "</div>"
      ],
      "text/plain": [
       "         Company                  Item  Calories  Total Fat\\n(g)  Sugars\\n(g)   \n",
       "0     McDonald’s             Hamburger     250.0             9.0          6.0  \\\n",
       "1     McDonald’s          Cheeseburger     300.0            12.0          6.0   \n",
       "2     McDonald’s   Double Cheeseburger     440.0            23.0          7.0   \n",
       "102   McDonald’s  Hamburger Happy Meal     475.0            16.0         20.0   \n",
       "346  Burger King             Hamburger     240.0            10.0          6.0   \n",
       "\n",
       "     Protein\\n(g)  \n",
       "0            12.0  \n",
       "1            15.0  \n",
       "2            25.0  \n",
       "102          22.0  \n",
       "346          13.0  "
      ]
     },
     "execution_count": 30,
     "metadata": {},
     "output_type": "execute_result"
    }
   ],
   "source": [
    "burger_df=df2[df2.Item.str.contains('burger')]\n",
    "burger_df.head()"
   ]
  },
  {
   "cell_type": "code",
   "execution_count": 31,
   "id": "b83e4b90",
   "metadata": {
    "scrolled": false
   },
   "outputs": [
    {
     "data": {
      "text/plain": [
       "Text(0, 0.5, 'Count')"
      ]
     },
     "execution_count": 31,
     "metadata": {},
     "output_type": "execute_result"
    },
    {
     "data": {
      "image/png": "[encoded data removed]",
      "text/plain": [
       "<Figure size 640x480 with 1 Axes>"
      ]
     },
     "metadata": {},
     "output_type": "display_data"
    }
   ],
   "source": [
    "burger_df.groupby(\"Company\").Item.count().plot(kind='bar',title=\"Count of Burger Supply\")\n",
    "plt.ylabel(\"Count\")"
   ]
  },
  {
   "cell_type": "markdown",
   "id": "7b791c78",
   "metadata": {},
   "source": [
    "From above Fig\n",
    "\n",
    "- Burger king is best option while buying an burger\n",
    "- Burger King provide large variety of burgers"
   ]
  },
  {
   "cell_type": "markdown",
   "id": "31b2ac02",
   "metadata": {},
   "source": [
    "##  Q) Top 10 protein rich Fast Food Items"
   ]
  },
  {
   "cell_type": "code",
   "execution_count": 32,
   "id": "ffac470d",
   "metadata": {},
   "outputs": [
    {
     "data": {
      "text/html": [
       "<div>\n",
       "<style scoped>\n",
       "    .dataframe tbody tr th:only-of-type {\n",
       "        vertical-align: middle;\n",
       "    }\n",
       "\n",
       "    .dataframe tbody tr th {\n",
       "        vertical-align: top;\n",
       "    }\n",
       "\n",
       "    .dataframe thead th {\n",
       "        text-align: right;\n",
       "    }\n",
       "</style>\n",
       "<table border=\"1\" class=\"dataframe\">\n",
       "  <thead>\n",
       "    <tr style=\"text-align: right;\">\n",
       "      <th></th>\n",
       "      <th>Company</th>\n",
       "      <th>Item</th>\n",
       "      <th>Calories</th>\n",
       "      <th>Total Fat\\n(g)</th>\n",
       "      <th>Sugars\\n(g)</th>\n",
       "      <th>Protein\\n(g)</th>\n",
       "    </tr>\n",
       "  </thead>\n",
       "  <tbody>\n",
       "    <tr>\n",
       "      <th>0</th>\n",
       "      <td>McDonald’s</td>\n",
       "      <td>Hamburger</td>\n",
       "      <td>250.0</td>\n",
       "      <td>9.0</td>\n",
       "      <td>6.0</td>\n",
       "      <td>12.0</td>\n",
       "    </tr>\n",
       "    <tr>\n",
       "      <th>1</th>\n",
       "      <td>McDonald’s</td>\n",
       "      <td>Cheeseburger</td>\n",
       "      <td>300.0</td>\n",
       "      <td>12.0</td>\n",
       "      <td>6.0</td>\n",
       "      <td>15.0</td>\n",
       "    </tr>\n",
       "    <tr>\n",
       "      <th>2</th>\n",
       "      <td>McDonald’s</td>\n",
       "      <td>Double Cheeseburger</td>\n",
       "      <td>440.0</td>\n",
       "      <td>23.0</td>\n",
       "      <td>7.0</td>\n",
       "      <td>25.0</td>\n",
       "    </tr>\n",
       "    <tr>\n",
       "      <th>3</th>\n",
       "      <td>McDonald’s</td>\n",
       "      <td>McDouble</td>\n",
       "      <td>390.0</td>\n",
       "      <td>19.0</td>\n",
       "      <td>7.0</td>\n",
       "      <td>22.0</td>\n",
       "    </tr>\n",
       "    <tr>\n",
       "      <th>4</th>\n",
       "      <td>McDonald’s</td>\n",
       "      <td>Quarter Pounder® with Cheese</td>\n",
       "      <td>510.0</td>\n",
       "      <td>26.0</td>\n",
       "      <td>9.0</td>\n",
       "      <td>29.0</td>\n",
       "    </tr>\n",
       "  </tbody>\n",
       "</table>\n",
       "</div>"
      ],
      "text/plain": [
       "      Company                           Item  Calories  Total Fat\\n(g)   \n",
       "0  McDonald’s                      Hamburger     250.0             9.0  \\\n",
       "1  McDonald’s                   Cheeseburger     300.0            12.0   \n",
       "2  McDonald’s            Double Cheeseburger     440.0            23.0   \n",
       "3  McDonald’s                       McDouble     390.0            19.0   \n",
       "4  McDonald’s   Quarter Pounder® with Cheese     510.0            26.0   \n",
       "\n",
       "   Sugars\\n(g)  Protein\\n(g)  \n",
       "0          6.0          12.0  \n",
       "1          6.0          15.0  \n",
       "2          7.0          25.0  \n",
       "3          7.0          22.0  \n",
       "4          9.0          29.0  "
      ]
     },
     "execution_count": 32,
     "metadata": {},
     "output_type": "execute_result"
    }
   ],
   "source": [
    "df2.head()"
   ]
  },
  {
   "cell_type": "code",
   "execution_count": 33,
   "id": "63d526ac",
   "metadata": {},
   "outputs": [
    {
     "data": {
      "image/png": "[encoded data removed]",
      "text/plain": [
       "<Figure size 640x480 with 1 Axes>"
      ]
     },
     "metadata": {},
     "output_type": "display_data"
    }
   ],
   "source": [
    "top_10_protein=df2.sort_values('Protein\\n(g)',ascending=False)[['Item','Protein\\n(g)']].head(10)\n",
    "top_10_protein.set_index('Item',inplace=True)\n",
    "top_10_protein.plot(kind='bar',title=\"Protein VS Item\")\n",
    "plt.ylabel(\"Protein\");"
   ]
  },
  {
   "cell_type": "markdown",
   "id": "cf4a5698",
   "metadata": {},
   "source": [
    "From above Fig\n",
    "- Meal with rich in protien\n"
   ]
  },
  {
   "cell_type": "markdown",
   "id": "7bee6b09",
   "metadata": {},
   "source": [
    "## Q) What percent of Cold Beverages are presented by Companys?"
   ]
  },
  {
   "cell_type": "code",
   "execution_count": 34,
   "id": "e28600e8",
   "metadata": {},
   "outputs": [
    {
     "data": {
      "text/html": [
       "<div>\n",
       "<style scoped>\n",
       "    .dataframe tbody tr th:only-of-type {\n",
       "        vertical-align: middle;\n",
       "    }\n",
       "\n",
       "    .dataframe tbody tr th {\n",
       "        vertical-align: top;\n",
       "    }\n",
       "\n",
       "    .dataframe thead th {\n",
       "        text-align: right;\n",
       "    }\n",
       "</style>\n",
       "<table border=\"1\" class=\"dataframe\">\n",
       "  <thead>\n",
       "    <tr style=\"text-align: right;\">\n",
       "      <th></th>\n",
       "      <th>Company</th>\n",
       "      <th>Item</th>\n",
       "      <th>Calories</th>\n",
       "      <th>Total Fat\\n(g)</th>\n",
       "      <th>Sugars\\n(g)</th>\n",
       "      <th>Protein\\n(g)</th>\n",
       "    </tr>\n",
       "  </thead>\n",
       "  <tbody>\n",
       "    <tr>\n",
       "      <th>0</th>\n",
       "      <td>McDonald’s</td>\n",
       "      <td>Hamburger</td>\n",
       "      <td>250.0</td>\n",
       "      <td>9.0</td>\n",
       "      <td>6.0</td>\n",
       "      <td>12.0</td>\n",
       "    </tr>\n",
       "    <tr>\n",
       "      <th>1</th>\n",
       "      <td>McDonald’s</td>\n",
       "      <td>Cheeseburger</td>\n",
       "      <td>300.0</td>\n",
       "      <td>12.0</td>\n",
       "      <td>6.0</td>\n",
       "      <td>15.0</td>\n",
       "    </tr>\n",
       "    <tr>\n",
       "      <th>2</th>\n",
       "      <td>McDonald’s</td>\n",
       "      <td>Double Cheeseburger</td>\n",
       "      <td>440.0</td>\n",
       "      <td>23.0</td>\n",
       "      <td>7.0</td>\n",
       "      <td>25.0</td>\n",
       "    </tr>\n",
       "    <tr>\n",
       "      <th>3</th>\n",
       "      <td>McDonald’s</td>\n",
       "      <td>McDouble</td>\n",
       "      <td>390.0</td>\n",
       "      <td>19.0</td>\n",
       "      <td>7.0</td>\n",
       "      <td>22.0</td>\n",
       "    </tr>\n",
       "    <tr>\n",
       "      <th>4</th>\n",
       "      <td>McDonald’s</td>\n",
       "      <td>Quarter Pounder® with Cheese</td>\n",
       "      <td>510.0</td>\n",
       "      <td>26.0</td>\n",
       "      <td>9.0</td>\n",
       "      <td>29.0</td>\n",
       "    </tr>\n",
       "  </tbody>\n",
       "</table>\n",
       "</div>"
      ],
      "text/plain": [
       "      Company                           Item  Calories  Total Fat\\n(g)   \n",
       "0  McDonald’s                      Hamburger     250.0             9.0  \\\n",
       "1  McDonald’s                   Cheeseburger     300.0            12.0   \n",
       "2  McDonald’s            Double Cheeseburger     440.0            23.0   \n",
       "3  McDonald’s                       McDouble     390.0            19.0   \n",
       "4  McDonald’s   Quarter Pounder® with Cheese     510.0            26.0   \n",
       "\n",
       "   Sugars\\n(g)  Protein\\n(g)  \n",
       "0          6.0          12.0  \n",
       "1          6.0          15.0  \n",
       "2          7.0          25.0  \n",
       "3          7.0          22.0  \n",
       "4          9.0          29.0  "
      ]
     },
     "execution_count": 34,
     "metadata": {},
     "output_type": "execute_result"
    }
   ],
   "source": [
    "df2.head()"
   ]
  },
  {
   "cell_type": "code",
   "execution_count": 35,
   "id": "48e2e2e2",
   "metadata": {},
   "outputs": [
    {
     "data": {
      "text/plain": [
       "595"
      ]
     },
     "execution_count": 35,
     "metadata": {},
     "output_type": "execute_result"
    }
   ],
   "source": [
    "df2.Item.nunique()"
   ]
  },
  {
   "cell_type": "code",
   "execution_count": 36,
   "id": "52b1cad2",
   "metadata": {},
   "outputs": [
    {
     "data": {
      "text/html": [
       "<div>\n",
       "<style scoped>\n",
       "    .dataframe tbody tr th:only-of-type {\n",
       "        vertical-align: middle;\n",
       "    }\n",
       "\n",
       "    .dataframe tbody tr th {\n",
       "        vertical-align: top;\n",
       "    }\n",
       "\n",
       "    .dataframe thead th {\n",
       "        text-align: right;\n",
       "    }\n",
       "</style>\n",
       "<table border=\"1\" class=\"dataframe\">\n",
       "  <thead>\n",
       "    <tr style=\"text-align: right;\">\n",
       "      <th></th>\n",
       "      <th>Company</th>\n",
       "      <th>Item</th>\n",
       "      <th>Calories</th>\n",
       "      <th>Total Fat\\n(g)</th>\n",
       "      <th>Sugars\\n(g)</th>\n",
       "      <th>Protein\\n(g)</th>\n",
       "    </tr>\n",
       "  </thead>\n",
       "  <tbody>\n",
       "    <tr>\n",
       "      <th>107</th>\n",
       "      <td>McDonald’s</td>\n",
       "      <td>Vanilla Reduced Fat Ice Cream Cone</td>\n",
       "      <td>150.0</td>\n",
       "      <td>3.5</td>\n",
       "      <td>18.0</td>\n",
       "      <td>4.0</td>\n",
       "    </tr>\n",
       "    <tr>\n",
       "      <th>182</th>\n",
       "      <td>McDonald’s</td>\n",
       "      <td>Iced Coffee– Caramel (Small)</td>\n",
       "      <td>130.0</td>\n",
       "      <td>5.0</td>\n",
       "      <td>20.0</td>\n",
       "      <td>1.0</td>\n",
       "    </tr>\n",
       "    <tr>\n",
       "      <th>185</th>\n",
       "      <td>McDonald’s</td>\n",
       "      <td>Iced Coffee– Hazelnut (Small)</td>\n",
       "      <td>130.0</td>\n",
       "      <td>5.0</td>\n",
       "      <td>21.0</td>\n",
       "      <td>1.0</td>\n",
       "    </tr>\n",
       "    <tr>\n",
       "      <th>188</th>\n",
       "      <td>McDonald’s</td>\n",
       "      <td>Iced Coffee– Regular (Small)</td>\n",
       "      <td>140.0</td>\n",
       "      <td>5.0</td>\n",
       "      <td>22.0</td>\n",
       "      <td>1.0</td>\n",
       "    </tr>\n",
       "    <tr>\n",
       "      <th>191</th>\n",
       "      <td>McDonald’s</td>\n",
       "      <td>Iced Coffee– Vanilla (Small)</td>\n",
       "      <td>130.0</td>\n",
       "      <td>5.0</td>\n",
       "      <td>21.0</td>\n",
       "      <td>1.0</td>\n",
       "    </tr>\n",
       "  </tbody>\n",
       "</table>\n",
       "</div>"
      ],
      "text/plain": [
       "        Company                                Item  Calories  Total Fat\\n(g)   \n",
       "107  McDonald’s  Vanilla Reduced Fat Ice Cream Cone     150.0             3.5  \\\n",
       "182  McDonald’s        Iced Coffee– Caramel (Small)     130.0             5.0   \n",
       "185  McDonald’s       Iced Coffee– Hazelnut (Small)     130.0             5.0   \n",
       "188  McDonald’s        Iced Coffee– Regular (Small)     140.0             5.0   \n",
       "191  McDonald’s        Iced Coffee– Vanilla (Small)     130.0             5.0   \n",
       "\n",
       "     Sugars\\n(g)  Protein\\n(g)  \n",
       "107         18.0           4.0  \n",
       "182         20.0           1.0  \n",
       "185         21.0           1.0  \n",
       "188         22.0           1.0  \n",
       "191         21.0           1.0  "
      ]
     },
     "execution_count": 36,
     "metadata": {},
     "output_type": "execute_result"
    }
   ],
   "source": [
    "cold_df=df2[df2.Item.str.contains(\"Ice\")]\n",
    "cold_df.head()"
   ]
  },
  {
   "cell_type": "code",
   "execution_count": 37,
   "id": "ee11cf15",
   "metadata": {},
   "outputs": [
    {
     "data": {
      "image/png": "[encoded data removed]",
      "text/plain": [
       "<Figure size 640x480 with 1 Axes>"
      ]
     },
     "metadata": {},
     "output_type": "display_data"
    }
   ],
   "source": [
    "cold_count=cold_df.Company.value_counts()\n",
    "plt.pie(cold_count,labels=cold_count.index,autopct=\"%0.2f%%\")\n",
    "plt.title(\" Percent of Cold Beverages\")\n",
    "plt.show()\n"
   ]
  },
  {
   "cell_type": "markdown",
   "id": "cd67bd39",
   "metadata": {},
   "source": [
    "From above Graph\n",
    "\n",
    "- We say that McDonald's have high percent of beverages\n",
    "- Taco Bell has less percent of beverages."
   ]
  },
  {
   "cell_type": "markdown",
   "id": "940fa277",
   "metadata": {},
   "source": [
    "##  Q) Which is most sweetest Item in each Company ?"
   ]
  },
  {
   "cell_type": "code",
   "execution_count": 38,
   "id": "0bd51734",
   "metadata": {},
   "outputs": [
    {
     "data": {
      "text/html": [
       "<div>\n",
       "<style scoped>\n",
       "    .dataframe tbody tr th:only-of-type {\n",
       "        vertical-align: middle;\n",
       "    }\n",
       "\n",
       "    .dataframe tbody tr th {\n",
       "        vertical-align: top;\n",
       "    }\n",
       "\n",
       "    .dataframe thead th {\n",
       "        text-align: right;\n",
       "    }\n",
       "</style>\n",
       "<table border=\"1\" class=\"dataframe\">\n",
       "  <thead>\n",
       "    <tr style=\"text-align: right;\">\n",
       "      <th></th>\n",
       "      <th>Company</th>\n",
       "      <th>Item</th>\n",
       "      <th>Calories</th>\n",
       "      <th>Total Fat\\n(g)</th>\n",
       "      <th>Sugars\\n(g)</th>\n",
       "      <th>Protein\\n(g)</th>\n",
       "    </tr>\n",
       "  </thead>\n",
       "  <tbody>\n",
       "    <tr>\n",
       "      <th>0</th>\n",
       "      <td>McDonald’s</td>\n",
       "      <td>Hamburger</td>\n",
       "      <td>250.0</td>\n",
       "      <td>9.0</td>\n",
       "      <td>6.0</td>\n",
       "      <td>12.0</td>\n",
       "    </tr>\n",
       "    <tr>\n",
       "      <th>1</th>\n",
       "      <td>McDonald’s</td>\n",
       "      <td>Cheeseburger</td>\n",
       "      <td>300.0</td>\n",
       "      <td>12.0</td>\n",
       "      <td>6.0</td>\n",
       "      <td>15.0</td>\n",
       "    </tr>\n",
       "  </tbody>\n",
       "</table>\n",
       "</div>"
      ],
      "text/plain": [
       "      Company          Item  Calories  Total Fat\\n(g)  Sugars\\n(g)   \n",
       "0  McDonald’s     Hamburger     250.0             9.0          6.0  \\\n",
       "1  McDonald’s  Cheeseburger     300.0            12.0          6.0   \n",
       "\n",
       "   Protein\\n(g)  \n",
       "0          12.0  \n",
       "1          15.0  "
      ]
     },
     "execution_count": 38,
     "metadata": {},
     "output_type": "execute_result"
    }
   ],
   "source": [
    "df2.head(2)"
   ]
  },
  {
   "cell_type": "code",
   "execution_count": 39,
   "id": "a1a0eba8",
   "metadata": {},
   "outputs": [
    {
     "data": {
      "text/html": [
       "<div>\n",
       "<style scoped>\n",
       "    .dataframe tbody tr th:only-of-type {\n",
       "        vertical-align: middle;\n",
       "    }\n",
       "\n",
       "    .dataframe tbody tr th {\n",
       "        vertical-align: top;\n",
       "    }\n",
       "\n",
       "    .dataframe thead th {\n",
       "        text-align: right;\n",
       "    }\n",
       "</style>\n",
       "<table border=\"1\" class=\"dataframe\">\n",
       "  <thead>\n",
       "    <tr style=\"text-align: right;\">\n",
       "      <th></th>\n",
       "      <th>Item</th>\n",
       "      <th>Sugars\\n(g)</th>\n",
       "    </tr>\n",
       "    <tr>\n",
       "      <th>Company</th>\n",
       "      <th></th>\n",
       "      <th></th>\n",
       "    </tr>\n",
       "  </thead>\n",
       "  <tbody>\n",
       "    <tr>\n",
       "      <th>Burger King</th>\n",
       "      <td>Whopper® Sandwich with Cheese</td>\n",
       "      <td>25.0</td>\n",
       "    </tr>\n",
       "    <tr>\n",
       "      <th>KFC</th>\n",
       "      <td>Wild Cherry Pepsi® (30 fl oz)</td>\n",
       "      <td>24.0</td>\n",
       "    </tr>\n",
       "    <tr>\n",
       "      <th>McDonald’s</th>\n",
       "      <td>Vanilla Reduced Fat Ice Cream Cone</td>\n",
       "      <td>25.0</td>\n",
       "    </tr>\n",
       "    <tr>\n",
       "      <th>Taco Bell</th>\n",
       "      <td>Veggie Power Menu Bowl – Specialties</td>\n",
       "      <td>13.0</td>\n",
       "    </tr>\n",
       "    <tr>\n",
       "      <th>Wendy’s</th>\n",
       "      <td>Vanilla Iced Coffee, Small</td>\n",
       "      <td>25.0</td>\n",
       "    </tr>\n",
       "  </tbody>\n",
       "</table>\n",
       "</div>"
      ],
      "text/plain": [
       "                                             Item  Sugars\\n(g)\n",
       "Company                                                       \n",
       "Burger King         Whopper® Sandwich with Cheese         25.0\n",
       "KFC                 Wild Cherry Pepsi® (30 fl oz)         24.0\n",
       "McDonald’s     Vanilla Reduced Fat Ice Cream Cone         25.0\n",
       "Taco Bell    Veggie Power Menu Bowl – Specialties         13.0\n",
       "Wendy’s                Vanilla Iced Coffee, Small         25.0"
      ]
     },
     "execution_count": 39,
     "metadata": {},
     "output_type": "execute_result"
    }
   ],
   "source": [
    "df2.groupby(\"Company\")[[\"Item\",'Sugars\\n(g)']].max()"
   ]
  },
  {
   "cell_type": "markdown",
   "id": "9a5c9599",
   "metadata": {},
   "source": [
    "##  Q) Meal analysis without Burger ?"
   ]
  },
  {
   "cell_type": "code",
   "execution_count": 40,
   "id": "b47f93f9",
   "metadata": {},
   "outputs": [
    {
     "data": {
      "text/html": [
       "<div>\n",
       "<style scoped>\n",
       "    .dataframe tbody tr th:only-of-type {\n",
       "        vertical-align: middle;\n",
       "    }\n",
       "\n",
       "    .dataframe tbody tr th {\n",
       "        vertical-align: top;\n",
       "    }\n",
       "\n",
       "    .dataframe thead th {\n",
       "        text-align: right;\n",
       "    }\n",
       "</style>\n",
       "<table border=\"1\" class=\"dataframe\">\n",
       "  <thead>\n",
       "    <tr style=\"text-align: right;\">\n",
       "      <th></th>\n",
       "      <th>Company</th>\n",
       "      <th>Item</th>\n",
       "      <th>Calories</th>\n",
       "      <th>Total Fat\\n(g)</th>\n",
       "      <th>Sugars\\n(g)</th>\n",
       "      <th>Protein\\n(g)</th>\n",
       "    </tr>\n",
       "  </thead>\n",
       "  <tbody>\n",
       "    <tr>\n",
       "      <th>0</th>\n",
       "      <td>McDonald’s</td>\n",
       "      <td>Hamburger</td>\n",
       "      <td>250.0</td>\n",
       "      <td>9.0</td>\n",
       "      <td>6.0</td>\n",
       "      <td>12.0</td>\n",
       "    </tr>\n",
       "    <tr>\n",
       "      <th>1</th>\n",
       "      <td>McDonald’s</td>\n",
       "      <td>Cheeseburger</td>\n",
       "      <td>300.0</td>\n",
       "      <td>12.0</td>\n",
       "      <td>6.0</td>\n",
       "      <td>15.0</td>\n",
       "    </tr>\n",
       "  </tbody>\n",
       "</table>\n",
       "</div>"
      ],
      "text/plain": [
       "      Company          Item  Calories  Total Fat\\n(g)  Sugars\\n(g)   \n",
       "0  McDonald’s     Hamburger     250.0             9.0          6.0  \\\n",
       "1  McDonald’s  Cheeseburger     300.0            12.0          6.0   \n",
       "\n",
       "   Protein\\n(g)  \n",
       "0          12.0  \n",
       "1          15.0  "
      ]
     },
     "execution_count": 40,
     "metadata": {},
     "output_type": "execute_result"
    }
   ],
   "source": [
    "df2.head(2)"
   ]
  },
  {
   "cell_type": "code",
   "execution_count": 41,
   "id": "62a85efb",
   "metadata": {},
   "outputs": [
    {
     "data": {
      "text/plain": [
       "(599, 6)"
      ]
     },
     "execution_count": 41,
     "metadata": {},
     "output_type": "execute_result"
    }
   ],
   "source": [
    "not_burger_df2=df2[~(df2.Item.str.contains(\"burger\"))]\n",
    "not_burger_df2.shape"
   ]
  },
  {
   "cell_type": "code",
   "execution_count": 42,
   "id": "44a68944",
   "metadata": {},
   "outputs": [
    {
     "data": {
      "text/html": [
       "<div>\n",
       "<style scoped>\n",
       "    .dataframe tbody tr th:only-of-type {\n",
       "        vertical-align: middle;\n",
       "    }\n",
       "\n",
       "    .dataframe tbody tr th {\n",
       "        vertical-align: top;\n",
       "    }\n",
       "\n",
       "    .dataframe thead th {\n",
       "        text-align: right;\n",
       "    }\n",
       "</style>\n",
       "<table border=\"1\" class=\"dataframe\">\n",
       "  <thead>\n",
       "    <tr style=\"text-align: right;\">\n",
       "      <th></th>\n",
       "      <th>Company</th>\n",
       "      <th>Item</th>\n",
       "      <th>Calories</th>\n",
       "      <th>Total Fat\\n(g)</th>\n",
       "      <th>Sugars\\n(g)</th>\n",
       "      <th>Protein\\n(g)</th>\n",
       "    </tr>\n",
       "  </thead>\n",
       "  <tbody>\n",
       "    <tr>\n",
       "      <th>3</th>\n",
       "      <td>McDonald’s</td>\n",
       "      <td>McDouble</td>\n",
       "      <td>390.0</td>\n",
       "      <td>19.0</td>\n",
       "      <td>7.0</td>\n",
       "      <td>22.0</td>\n",
       "    </tr>\n",
       "    <tr>\n",
       "      <th>4</th>\n",
       "      <td>McDonald’s</td>\n",
       "      <td>Quarter Pounder® with Cheese</td>\n",
       "      <td>510.0</td>\n",
       "      <td>26.0</td>\n",
       "      <td>9.0</td>\n",
       "      <td>29.0</td>\n",
       "    </tr>\n",
       "    <tr>\n",
       "      <th>5</th>\n",
       "      <td>McDonald’s</td>\n",
       "      <td>Double Quarter Pounder® with Cheese</td>\n",
       "      <td>740.0</td>\n",
       "      <td>42.0</td>\n",
       "      <td>9.0</td>\n",
       "      <td>48.0</td>\n",
       "    </tr>\n",
       "    <tr>\n",
       "      <th>6</th>\n",
       "      <td>McDonald’s</td>\n",
       "      <td>Big Mac®</td>\n",
       "      <td>540.0</td>\n",
       "      <td>29.0</td>\n",
       "      <td>9.0</td>\n",
       "      <td>25.0</td>\n",
       "    </tr>\n",
       "    <tr>\n",
       "      <th>7</th>\n",
       "      <td>McDonald’s</td>\n",
       "      <td>Big N’ Tasty®</td>\n",
       "      <td>460.0</td>\n",
       "      <td>24.0</td>\n",
       "      <td>8.0</td>\n",
       "      <td>24.0</td>\n",
       "    </tr>\n",
       "  </tbody>\n",
       "</table>\n",
       "</div>"
      ],
      "text/plain": [
       "      Company                                 Item  Calories  Total Fat\\n(g)   \n",
       "3  McDonald’s                             McDouble     390.0            19.0  \\\n",
       "4  McDonald’s         Quarter Pounder® with Cheese     510.0            26.0   \n",
       "5  McDonald’s  Double Quarter Pounder® with Cheese     740.0            42.0   \n",
       "6  McDonald’s                             Big Mac®     540.0            29.0   \n",
       "7  McDonald’s                        Big N’ Tasty®     460.0            24.0   \n",
       "\n",
       "   Sugars\\n(g)  Protein\\n(g)  \n",
       "3          7.0          22.0  \n",
       "4          9.0          29.0  \n",
       "5          9.0          48.0  \n",
       "6          9.0          25.0  \n",
       "7          8.0          24.0  "
      ]
     },
     "execution_count": 42,
     "metadata": {},
     "output_type": "execute_result"
    }
   ],
   "source": [
    "not_burger_df2.head()"
   ]
  },
  {
   "cell_type": "code",
   "execution_count": 43,
   "id": "44e3c561",
   "metadata": {
    "scrolled": false
   },
   "outputs": [
    {
     "data": {
      "image/png": "[encoded data removed]",
      "text/plain": [
       "<Figure size 1000x700 with 1 Axes>"
      ]
     },
     "metadata": {},
     "output_type": "display_data"
    }
   ],
   "source": [
    "plt.figure(figsize=(10,7))\n",
    "\n",
    "not_burger_df2.groupby('Company')['Item'].count().plot(kind='bar',label='count');\n",
    "not_burger_df2.groupby('Company')['Calories'].mean().plot(label=\"Calories\");\n",
    "not_burger_df2.groupby('Company')['Total Fat\\n(g)'].mean().plot(label='Fat');\n",
    "not_burger_df2.groupby('Company')['Sugars\\n(g)'].mean().plot(label='Sugar');\n",
    "not_burger_df2.groupby('Company')['Protein\\n(g)'].mean().plot(label='Protein');\n",
    "\n",
    "plt.title(\"Meal without Burger\")\n",
    "plt.legend();"
   ]
  },
  {
   "cell_type": "markdown",
   "id": "97e7f63a",
   "metadata": {},
   "source": [
    "From above fig\n",
    "\n",
    "- If we are not buying an burger,then KFC go good choice\n",
    "- High Protein in Wendy's without burger\n",
    "- The product which are not Burger are mostly made by KFC\n",
    "- The company which most of product are burger is Burger King"
   ]
  },
  {
   "cell_type": "markdown",
   "id": "c7d13ffd",
   "metadata": {},
   "source": [
    "#  Conclusion of Analysis"
   ]
  },
  {
   "cell_type": "markdown",
   "id": "85663595",
   "metadata": {},
   "source": [
    "- Most of Item are from by KFC\n",
    "- Calories VS Fat    \n",
    "    - As Calories increases, Fat also increases\n",
    "    - Both are directly proportional to each other\n",
    "    - Increasing rate is high\n",
    "- Sugar VS Calories \n",
    "    - As Calories increases Sugar also increases\n",
    "    - Both are directly proportional to each other\n",
    "    - Increasing rate is slow\n",
    "    - The Calories at 400,500,600 contain high amount of sugar\n",
    "- Fat VS Protein    \n",
    "    - Fat is high where protein is less\n",
    "    - Where Protein is high where Fat is less\n",
    "    - We cannot say they are inversely proportional, because when protein   is increases,fat also increases but in very poor amount\n",
    "- Supply Nutrition to market\n",
    "    - We say that, Burger King is 1st & Taco Bell is 2nd, who supply more Calories to Market\n",
    "    - Wendy's play a major role in supplying Protein to Market\n",
    "    - KFC maintain it's ratio of supplying protein & Calories in almost same amount\n",
    "-  Large Percentage of Cold Beverages are provided by McDonald's  \n",
    "- KFC is Company which produce other item in large amount rather than burger"
   ]
  },
  {
   "cell_type": "markdown",
   "id": "bfb95346",
   "metadata": {},
   "source": [
    "## Increasing DataSet"
   ]
  },
  {
   "cell_type": "code",
   "execution_count": 44,
   "id": "5f6de7ee",
   "metadata": {
    "scrolled": true
   },
   "outputs": [
    {
     "data": {
      "text/plain": [
       "(617, 6)"
      ]
     },
     "execution_count": 44,
     "metadata": {},
     "output_type": "execute_result"
    }
   ],
   "source": [
    "t=df2.copy()\n",
    "t.shape"
   ]
  },
  {
   "cell_type": "code",
   "execution_count": 45,
   "id": "54b33c27",
   "metadata": {},
   "outputs": [
    {
     "data": {
      "text/plain": [
       "(1234, 6)"
      ]
     },
     "execution_count": 45,
     "metadata": {},
     "output_type": "execute_result"
    }
   ],
   "source": [
    "df2=pd.concat([df2,t])\n",
    "df2.shape"
   ]
  },
  {
   "cell_type": "code",
   "execution_count": 46,
   "id": "f63d1e26",
   "metadata": {},
   "outputs": [
    {
     "data": {
      "text/plain": [
       "(1851, 6)"
      ]
     },
     "execution_count": 46,
     "metadata": {},
     "output_type": "execute_result"
    }
   ],
   "source": [
    "df2=pd.concat([df2,t])\n",
    "df2.shape"
   ]
  },
  {
   "cell_type": "markdown",
   "id": "70a1d969",
   "metadata": {},
   "source": [
    "##  Removing Outlier"
   ]
  },
  {
   "cell_type": "code",
   "execution_count": 47,
   "id": "cbec30ff",
   "metadata": {},
   "outputs": [
    {
     "data": {
      "text/plain": [
       "(660.0, 40.0)"
      ]
     },
     "execution_count": 47,
     "metadata": {},
     "output_type": "execute_result"
    }
   ],
   "source": [
    "max_pro=df2['Protein\\n(g)'].quantile(0.95)\n",
    "min_pro=df2['Protein\\n(g)'].quantile(0.05)\n",
    "\n",
    "max_sugar=df2['Sugars\\n(g)'].quantile(0.95)\n",
    "min_sugar=df2['Sugars\\n(g)'].quantile(0.05)\n",
    "\n",
    "max_fat=df2['Total Fat\\n(g)'].quantile(0.95)\n",
    "min_fat=df2['Total Fat\\n(g)'].quantile(0.05)\n",
    "\n",
    "max_cal=df2['Calories'].quantile(0.95)\n",
    "min_cal=df2['Calories'].quantile(0.05)\n",
    "max_cal,min_cal"
   ]
  },
  {
   "cell_type": "code",
   "execution_count": 48,
   "id": "a87133df",
   "metadata": {},
   "outputs": [],
   "source": [
    "df2=df2[(df2['Calories']<max_cal)&(df2['Calories']>min_cal)]\n",
    "df2=df2[(df2['Total Fat\\n(g)']<max_fat)&(df2['Total Fat\\n(g)']>min_fat)]\n",
    "df2=df2[(df2['Sugars\\n(g)']<max_sugar)&(df2['Sugars\\n(g)']>min_sugar)]\n",
    "df2=df2[(df2['Calories']<max_cal)&(df2['Calories']>min_cal)]\n",
    "df2=df2[(df2['Protein\\n(g)']<max_pro)&(df2['Protein\\n(g)']>min_pro)]\n"
   ]
  },
  {
   "cell_type": "markdown",
   "id": "04d8828b",
   "metadata": {},
   "source": [
    "# Model Building"
   ]
  },
  {
   "cell_type": "code",
   "execution_count": 49,
   "id": "fac3173e",
   "metadata": {},
   "outputs": [
    {
     "data": {
      "text/html": [
       "<div>\n",
       "<style scoped>\n",
       "    .dataframe tbody tr th:only-of-type {\n",
       "        vertical-align: middle;\n",
       "    }\n",
       "\n",
       "    .dataframe tbody tr th {\n",
       "        vertical-align: top;\n",
       "    }\n",
       "\n",
       "    .dataframe thead th {\n",
       "        text-align: right;\n",
       "    }\n",
       "</style>\n",
       "<table border=\"1\" class=\"dataframe\">\n",
       "  <thead>\n",
       "    <tr style=\"text-align: right;\">\n",
       "      <th></th>\n",
       "      <th>Company</th>\n",
       "      <th>Item</th>\n",
       "      <th>Calories</th>\n",
       "      <th>Total Fat\\n(g)</th>\n",
       "      <th>Sugars\\n(g)</th>\n",
       "      <th>Protein\\n(g)</th>\n",
       "    </tr>\n",
       "  </thead>\n",
       "  <tbody>\n",
       "    <tr>\n",
       "      <th>0</th>\n",
       "      <td>McDonald’s</td>\n",
       "      <td>Hamburger</td>\n",
       "      <td>250.0</td>\n",
       "      <td>9.0</td>\n",
       "      <td>6.0</td>\n",
       "      <td>12.0</td>\n",
       "    </tr>\n",
       "    <tr>\n",
       "      <th>1</th>\n",
       "      <td>McDonald’s</td>\n",
       "      <td>Cheeseburger</td>\n",
       "      <td>300.0</td>\n",
       "      <td>12.0</td>\n",
       "      <td>6.0</td>\n",
       "      <td>15.0</td>\n",
       "    </tr>\n",
       "    <tr>\n",
       "      <th>2</th>\n",
       "      <td>McDonald’s</td>\n",
       "      <td>Double Cheeseburger</td>\n",
       "      <td>440.0</td>\n",
       "      <td>23.0</td>\n",
       "      <td>7.0</td>\n",
       "      <td>25.0</td>\n",
       "    </tr>\n",
       "    <tr>\n",
       "      <th>3</th>\n",
       "      <td>McDonald’s</td>\n",
       "      <td>McDouble</td>\n",
       "      <td>390.0</td>\n",
       "      <td>19.0</td>\n",
       "      <td>7.0</td>\n",
       "      <td>22.0</td>\n",
       "    </tr>\n",
       "    <tr>\n",
       "      <th>4</th>\n",
       "      <td>McDonald’s</td>\n",
       "      <td>Quarter Pounder® with Cheese</td>\n",
       "      <td>510.0</td>\n",
       "      <td>26.0</td>\n",
       "      <td>9.0</td>\n",
       "      <td>29.0</td>\n",
       "    </tr>\n",
       "  </tbody>\n",
       "</table>\n",
       "</div>"
      ],
      "text/plain": [
       "      Company                           Item  Calories  Total Fat\\n(g)   \n",
       "0  McDonald’s                      Hamburger     250.0             9.0  \\\n",
       "1  McDonald’s                   Cheeseburger     300.0            12.0   \n",
       "2  McDonald’s            Double Cheeseburger     440.0            23.0   \n",
       "3  McDonald’s                       McDouble     390.0            19.0   \n",
       "4  McDonald’s   Quarter Pounder® with Cheese     510.0            26.0   \n",
       "\n",
       "   Sugars\\n(g)  Protein\\n(g)  \n",
       "0          6.0          12.0  \n",
       "1          6.0          15.0  \n",
       "2          7.0          25.0  \n",
       "3          7.0          22.0  \n",
       "4          9.0          29.0  "
      ]
     },
     "execution_count": 49,
     "metadata": {},
     "output_type": "execute_result"
    }
   ],
   "source": [
    "df2.head()"
   ]
  },
  {
   "cell_type": "code",
   "execution_count": 50,
   "id": "aa5f4cf1",
   "metadata": {},
   "outputs": [],
   "source": [
    "from sklearn.preprocessing import LabelEncoder\n",
    "\n",
    "le_item=LabelEncoder()"
   ]
  },
  {
   "cell_type": "code",
   "execution_count": 51,
   "id": "eb53d845",
   "metadata": {},
   "outputs": [],
   "source": [
    "df2['n_item']=le_item.fit_transform(df2.Item)"
   ]
  },
  {
   "cell_type": "markdown",
   "id": "02970ca3",
   "metadata": {},
   "source": [
    "We label the item product so we don't required that column and Company is not required becuase health is depend on product not on an Company"
   ]
  },
  {
   "cell_type": "code",
   "execution_count": 52,
   "id": "333dca1f",
   "metadata": {},
   "outputs": [
    {
     "data": {
      "text/html": [
       "<div>\n",
       "<style scoped>\n",
       "    .dataframe tbody tr th:only-of-type {\n",
       "        vertical-align: middle;\n",
       "    }\n",
       "\n",
       "    .dataframe tbody tr th {\n",
       "        vertical-align: top;\n",
       "    }\n",
       "\n",
       "    .dataframe thead th {\n",
       "        text-align: right;\n",
       "    }\n",
       "</style>\n",
       "<table border=\"1\" class=\"dataframe\">\n",
       "  <thead>\n",
       "    <tr style=\"text-align: right;\">\n",
       "      <th></th>\n",
       "      <th>Calories</th>\n",
       "      <th>Total Fat\\n(g)</th>\n",
       "      <th>Sugars\\n(g)</th>\n",
       "      <th>Protein\\n(g)</th>\n",
       "      <th>n_item</th>\n",
       "    </tr>\n",
       "  </thead>\n",
       "  <tbody>\n",
       "    <tr>\n",
       "      <th>0</th>\n",
       "      <td>250.0</td>\n",
       "      <td>9.0</td>\n",
       "      <td>6.0</td>\n",
       "      <td>12.0</td>\n",
       "      <td>134</td>\n",
       "    </tr>\n",
       "    <tr>\n",
       "      <th>1</th>\n",
       "      <td>300.0</td>\n",
       "      <td>12.0</td>\n",
       "      <td>6.0</td>\n",
       "      <td>15.0</td>\n",
       "      <td>72</td>\n",
       "    </tr>\n",
       "    <tr>\n",
       "      <th>2</th>\n",
       "      <td>440.0</td>\n",
       "      <td>23.0</td>\n",
       "      <td>7.0</td>\n",
       "      <td>25.0</td>\n",
       "      <td>107</td>\n",
       "    </tr>\n",
       "    <tr>\n",
       "      <th>3</th>\n",
       "      <td>390.0</td>\n",
       "      <td>19.0</td>\n",
       "      <td>7.0</td>\n",
       "      <td>22.0</td>\n",
       "      <td>194</td>\n",
       "    </tr>\n",
       "    <tr>\n",
       "      <th>4</th>\n",
       "      <td>510.0</td>\n",
       "      <td>26.0</td>\n",
       "      <td>9.0</td>\n",
       "      <td>29.0</td>\n",
       "      <td>0</td>\n",
       "    </tr>\n",
       "  </tbody>\n",
       "</table>\n",
       "</div>"
      ],
      "text/plain": [
       "   Calories  Total Fat\\n(g)  Sugars\\n(g)  Protein\\n(g)  n_item\n",
       "0     250.0             9.0          6.0          12.0     134\n",
       "1     300.0            12.0          6.0          15.0      72\n",
       "2     440.0            23.0          7.0          25.0     107\n",
       "3     390.0            19.0          7.0          22.0     194\n",
       "4     510.0            26.0          9.0          29.0       0"
      ]
     },
     "execution_count": 52,
     "metadata": {},
     "output_type": "execute_result"
    }
   ],
   "source": [
    "df3=df2.drop(['Company','Item'],axis='columns').copy()\n",
    "df3.head()"
   ]
  },
  {
   "cell_type": "code",
   "execution_count": 53,
   "id": "f2e105a9",
   "metadata": {},
   "outputs": [
    {
     "data": {
      "text/plain": [
       "Text(0, 0.5, 'Calories')"
      ]
     },
     "execution_count": 53,
     "metadata": {},
     "output_type": "execute_result"
    },
    {
     "data": {
      "image/png": "[encoded data removed]",
      "text/plain": [
       "<Figure size 640x480 with 1 Axes>"
      ]
     },
     "metadata": {},
     "output_type": "display_data"
    }
   ],
   "source": [
    "plt.scatter(df3['Protein\\n(g)'],df3['Calories']);\n",
    "plt.title(\"Calories VS Protein\");\n",
    "plt.xlabel(\"Protein\")\n",
    "plt.ylabel(\"Calories\")"
   ]
  },
  {
   "cell_type": "code",
   "execution_count": 54,
   "id": "a73c9024",
   "metadata": {},
   "outputs": [],
   "source": [
    "X=df3.drop('n_item',axis=1)\n",
    "y=df3.n_item"
   ]
  },
  {
   "cell_type": "markdown",
   "id": "8db2c9f2",
   "metadata": {},
   "source": [
    "## Model Selection"
   ]
  },
  {
   "cell_type": "code",
   "execution_count": 55,
   "id": "c46e7374",
   "metadata": {},
   "outputs": [],
   "source": [
    "from sklearn import svm\n",
    "from sklearn.ensemble import RandomForestClassifier\n",
    "from sklearn.linear_model import LogisticRegression\n",
    "from sklearn.naive_bayes import GaussianNB\n",
    "from sklearn.naive_bayes import MultinomialNB\n",
    "from sklearn.tree import DecisionTreeClassifier\n",
    "\n",
    "from sklearn.model_selection import GridSearchCV"
   ]
  },
  {
   "cell_type": "code",
   "execution_count": 56,
   "id": "3df61845",
   "metadata": {},
   "outputs": [],
   "source": [
    "model_params={\n",
    "    'svm':{\n",
    "        'model':svm.SVC(gamma='auto'),\n",
    "        'params':{\n",
    "            'C':[1,10,20],\n",
    "            'kernel':['rbf','linear']\n",
    "        }\n",
    "    },\n",
    "    'Random_Forest':{\n",
    "        'model':RandomForestClassifier(),\n",
    "        'params':{\n",
    "            'n_estimators':[1,5,10]\n",
    "        }\n",
    "    },\n",
    "    'Logistic_Regression':{\n",
    "        'model':LogisticRegression(),\n",
    "        'params':{\n",
    "            'C':[1,5,10]\n",
    "        }\n",
    "    },\n",
    "    'Naive_Bayes_MultinomialNB:':{\n",
    "        'model':MultinomialNB(),\n",
    "        'params':{}\n",
    "    },\n",
    "    'Decision_Tree':{\n",
    "        'model':DecisionTreeClassifier(),\n",
    "        'params':{\n",
    "            'criterion':['gini','entropy']\n",
    "        }\n",
    "    }\n",
    "}"
   ]
  },
  {
   "cell_type": "code",
   "execution_count": 57,
   "id": "116d7499",
   "metadata": {},
   "outputs": [],
   "source": [
    "score=[]\n",
    "for model_name,mp in model_params.items():\n",
    "\n",
    "    clf=GridSearchCV(mp['model'],mp['params'],cv=5,return_train_score=False)\n",
    "    clf.fit(X,y)\n",
    "    score.append({\n",
    "        'model':model_name,\n",
    "        'best_score':clf.best_score_,\n",
    "        'best_params':clf.best_params_\n",
    "    })"
   ]
  },
  {
   "cell_type": "code",
   "execution_count": 58,
   "id": "ddfaffcf",
   "metadata": {},
   "outputs": [
    {
     "data": {
      "text/html": [
       "<div>\n",
       "<style scoped>\n",
       "    .dataframe tbody tr th:only-of-type {\n",
       "        vertical-align: middle;\n",
       "    }\n",
       "\n",
       "    .dataframe tbody tr th {\n",
       "        vertical-align: top;\n",
       "    }\n",
       "\n",
       "    .dataframe thead th {\n",
       "        text-align: right;\n",
       "    }\n",
       "</style>\n",
       "<table border=\"1\" class=\"dataframe\">\n",
       "  <thead>\n",
       "    <tr style=\"text-align: right;\">\n",
       "      <th></th>\n",
       "      <th>model</th>\n",
       "      <th>best_score</th>\n",
       "      <th>best_params</th>\n",
       "    </tr>\n",
       "  </thead>\n",
       "  <tbody>\n",
       "    <tr>\n",
       "      <th>0</th>\n",
       "      <td>svm</td>\n",
       "      <td>0.870436</td>\n",
       "      <td>{'C': 10, 'kernel': 'rbf'}</td>\n",
       "    </tr>\n",
       "    <tr>\n",
       "      <th>1</th>\n",
       "      <td>Random_Forest</td>\n",
       "      <td>0.874868</td>\n",
       "      <td>{'n_estimators': 10}</td>\n",
       "    </tr>\n",
       "    <tr>\n",
       "      <th>2</th>\n",
       "      <td>Logistic_Regression</td>\n",
       "      <td>0.111854</td>\n",
       "      <td>{'C': 1}</td>\n",
       "    </tr>\n",
       "    <tr>\n",
       "      <th>3</th>\n",
       "      <td>Naive_Bayes_MultinomialNB:</td>\n",
       "      <td>0.122879</td>\n",
       "      <td>{}</td>\n",
       "    </tr>\n",
       "    <tr>\n",
       "      <th>4</th>\n",
       "      <td>Decision_Tree</td>\n",
       "      <td>0.870436</td>\n",
       "      <td>{'criterion': 'gini'}</td>\n",
       "    </tr>\n",
       "  </tbody>\n",
       "</table>\n",
       "</div>"
      ],
      "text/plain": [
       "                        model  best_score                 best_params\n",
       "0                         svm    0.870436  {'C': 10, 'kernel': 'rbf'}\n",
       "1               Random_Forest    0.874868        {'n_estimators': 10}\n",
       "2         Logistic_Regression    0.111854                    {'C': 1}\n",
       "3  Naive_Bayes_MultinomialNB:    0.122879                          {}\n",
       "4               Decision_Tree    0.870436       {'criterion': 'gini'}"
      ]
     },
     "execution_count": 58,
     "metadata": {},
     "output_type": "execute_result"
    }
   ],
   "source": [
    "df_model=pd.DataFrame(score,columns=['model','best_score','best_params'])\n",
    "df_model"
   ]
  },
  {
   "cell_type": "markdown",
   "id": "7e0bc142",
   "metadata": {},
   "source": [
    "## We will use Decision Tree\n",
    "- By spliting data Decision Tree are able to give more accuracy."
   ]
  },
  {
   "cell_type": "code",
   "execution_count": 59,
   "id": "fba627ca",
   "metadata": {},
   "outputs": [],
   "source": [
    "from sklearn.model_selection import train_test_split\n",
    "X_train,X_test,y_train,y_test=train_test_split(X,y,test_size=0.2,random_state=48)"
   ]
  },
  {
   "cell_type": "code",
   "execution_count": 60,
   "id": "c01424d3",
   "metadata": {
    "scrolled": true
   },
   "outputs": [
    {
     "data": {
      "text/plain": [
       "722"
      ]
     },
     "execution_count": 60,
     "metadata": {},
     "output_type": "execute_result"
    }
   ],
   "source": [
    "len(X_train)"
   ]
  },
  {
   "cell_type": "code",
   "execution_count": 61,
   "id": "2a460f8f",
   "metadata": {},
   "outputs": [
    {
     "data": {
      "text/plain": [
       "181"
      ]
     },
     "execution_count": 61,
     "metadata": {},
     "output_type": "execute_result"
    }
   ],
   "source": [
    "len(X_test)"
   ]
  },
  {
   "cell_type": "code",
   "execution_count": 62,
   "id": "56cca8f7",
   "metadata": {},
   "outputs": [
    {
     "data": {
      "text/html": [
       "<style>#sk-container-id-1 {color: black;background-color: white;}#sk-container-id-1 pre{padding: 0;}#sk-container-id-1 div.sk-toggleable {background-color: white;}#sk-container-id-1 label.sk-toggleable__label {cursor: pointer;display: block;width: 100%;margin-bottom: 0;padding: 0.3em;box-sizing: border-box;text-align: center;}#sk-container-id-1 label.sk-toggleable__label-arrow:before {content: \"▸\";float: left;margin-right: 0.25em;color: #696969;}#sk-container-id-1 label.sk-toggleable__label-arrow:hover:before {color: black;}#sk-container-id-1 div.sk-estimator:hover label.sk-toggleable__label-arrow:before {color: black;}#sk-container-id-1 div.sk-toggleable__content {max-height: 0;max-width: 0;overflow: hidden;text-align: left;background-color: #f0f8ff;}#sk-container-id-1 div.sk-toggleable__content pre {margin: 0.2em;color: black;border-radius: 0.25em;background-color: #f0f8ff;}#sk-container-id-1 input.sk-toggleable__control:checked~div.sk-toggleable__content {max-height: 200px;max-width: 100%;overflow: auto;}#sk-container-id-1 input.sk-toggleable__control:checked~label.sk-toggleable__label-arrow:before {content: \"▾\";}#sk-container-id-1 div.sk-estimator input.sk-toggleable__control:checked~label.sk-toggleable__label {background-color: #d4ebff;}#sk-container-id-1 div.sk-label input.sk-toggleable__control:checked~label.sk-toggleable__label {background-color: #d4ebff;}#sk-container-id-1 input.sk-hidden--visually {border: 0;clip: rect(1px 1px 1px 1px);clip: rect(1px, 1px, 1px, 1px);height: 1px;margin: -1px;overflow: hidden;padding: 0;position: absolute;width: 1px;}#sk-container-id-1 div.sk-estimator {font-family: monospace;background-color: #f0f8ff;border: 1px dotted black;border-radius: 0.25em;box-sizing: border-box;margin-bottom: 0.5em;}#sk-container-id-1 div.sk-estimator:hover {background-color: #d4ebff;}#sk-container-id-1 div.sk-parallel-item::after {content: \"\";width: 100%;border-bottom: 1px solid gray;flex-grow: 1;}#sk-container-id-1 div.sk-label:hover label.sk-toggleable__label {background-color: #d4ebff;}#sk-container-id-1 div.sk-serial::before {content: \"\";position: absolute;border-left: 1px solid gray;box-sizing: border-box;top: 0;bottom: 0;left: 50%;z-index: 0;}#sk-container-id-1 div.sk-serial {display: flex;flex-direction: column;align-items: center;background-color: white;padding-right: 0.2em;padding-left: 0.2em;position: relative;}#sk-container-id-1 div.sk-item {position: relative;z-index: 1;}#sk-container-id-1 div.sk-parallel {display: flex;align-items: stretch;justify-content: center;background-color: white;position: relative;}#sk-container-id-1 div.sk-item::before, #sk-container-id-1 div.sk-parallel-item::before {content: \"\";position: absolute;border-left: 1px solid gray;box-sizing: border-box;top: 0;bottom: 0;left: 50%;z-index: -1;}#sk-container-id-1 div.sk-parallel-item {display: flex;flex-direction: column;z-index: 1;position: relative;background-color: white;}#sk-container-id-1 div.sk-parallel-item:first-child::after {align-self: flex-end;width: 50%;}#sk-container-id-1 div.sk-parallel-item:last-child::after {align-self: flex-start;width: 50%;}#sk-container-id-1 div.sk-parallel-item:only-child::after {width: 0;}#sk-container-id-1 div.sk-dashed-wrapped {border: 1px dashed gray;margin: 0 0.4em 0.5em 0.4em;box-sizing: border-box;padding-bottom: 0.4em;background-color: white;}#sk-container-id-1 div.sk-label label {font-family: monospace;font-weight: bold;display: inline-block;line-height: 1.2em;}#sk-container-id-1 div.sk-label-container {text-align: center;}#sk-container-id-1 div.sk-container {/* jupyter's `normalize.less` sets `[hidden] { display: none; }` but bootstrap.min.css set `[hidden] { display: none !important; }` so we also need the `!important` here to be able to override the default hidden behavior on the sphinx rendered scikit-learn.org. See: https://github.com/scikit-learn/scikit-learn/issues/21755 */display: inline-block !important;position: relative;}#sk-container-id-1 div.sk-text-repr-fallback {display: none;}</style><div id=\"sk-container-id-1\" class=\"sk-top-container\"><div class=\"sk-text-repr-fallback\"><pre>DecisionTreeClassifier(random_state=40)</pre><b>In a Jupyter environment, please rerun this cell to show the HTML representation or trust the notebook. <br />On GitHub, the HTML representation is unable to render, please try loading this page with nbviewer.org.</b></div><div class=\"sk-container\" hidden><div class=\"sk-item\"><div class=\"sk-estimator sk-toggleable\"><input class=\"sk-toggleable__control sk-hidden--visually\" id=\"sk-estimator-id-1\" type=\"checkbox\" checked><label for=\"sk-estimator-id-1\" class=\"sk-toggleable__label sk-toggleable__label-arrow\">DecisionTreeClassifier</label><div class=\"sk-toggleable__content\"><pre>DecisionTreeClassifier(random_state=40)</pre></div></div></div></div></div>"
      ],
      "text/plain": [
       "DecisionTreeClassifier(random_state=40)"
      ]
     },
     "execution_count": 62,
     "metadata": {},
     "output_type": "execute_result"
    }
   ],
   "source": [
    "model=DecisionTreeClassifier(random_state=40)\n",
    "model.fit(X_train,y_train)"
   ]
  },
  {
   "cell_type": "code",
   "execution_count": 63,
   "id": "bbcb1c45",
   "metadata": {
    "scrolled": true
   },
   "outputs": [
    {
     "data": {
      "text/plain": [
       "0.8232044198895028"
      ]
     },
     "execution_count": 63,
     "metadata": {},
     "output_type": "execute_result"
    }
   ],
   "source": [
    "model.score(X_test,y_test)"
   ]
  },
  {
   "cell_type": "markdown",
   "id": "60939a7b",
   "metadata": {},
   "source": [
    "The Accuracy of Model is 82.32%"
   ]
  },
  {
   "cell_type": "markdown",
   "id": "fb540a6a",
   "metadata": {},
   "source": [
    " ###  Now we predict the item with encode"
   ]
  },
  {
   "cell_type": "code",
   "execution_count": 64,
   "id": "e5b02427",
   "metadata": {},
   "outputs": [
    {
     "data": {
      "text/html": [
       "<div>\n",
       "<style scoped>\n",
       "    .dataframe tbody tr th:only-of-type {\n",
       "        vertical-align: middle;\n",
       "    }\n",
       "\n",
       "    .dataframe tbody tr th {\n",
       "        vertical-align: top;\n",
       "    }\n",
       "\n",
       "    .dataframe thead th {\n",
       "        text-align: right;\n",
       "    }\n",
       "</style>\n",
       "<table border=\"1\" class=\"dataframe\">\n",
       "  <thead>\n",
       "    <tr style=\"text-align: right;\">\n",
       "      <th></th>\n",
       "      <th>Calories</th>\n",
       "      <th>Total Fat\\n(g)</th>\n",
       "      <th>Sugars\\n(g)</th>\n",
       "      <th>Protein\\n(g)</th>\n",
       "    </tr>\n",
       "  </thead>\n",
       "  <tbody>\n",
       "    <tr>\n",
       "      <th>658</th>\n",
       "      <td>310.0</td>\n",
       "      <td>8.0</td>\n",
       "      <td>3.0</td>\n",
       "      <td>339.0</td>\n",
       "    </tr>\n",
       "    <tr>\n",
       "      <th>554</th>\n",
       "      <td>370.0</td>\n",
       "      <td>5.0</td>\n",
       "      <td>18.0</td>\n",
       "      <td>359.0</td>\n",
       "    </tr>\n",
       "  </tbody>\n",
       "</table>\n",
       "</div>"
      ],
      "text/plain": [
       "     Calories  Total Fat\\n(g)  Sugars\\n(g)  Protein\\n(g)\n",
       "658     310.0             8.0          3.0         339.0\n",
       "554     370.0             5.0         18.0         359.0"
      ]
     },
     "execution_count": 64,
     "metadata": {},
     "output_type": "execute_result"
    }
   ],
   "source": [
    "X_train.head(2)"
   ]
  },
  {
   "cell_type": "code",
   "execution_count": 65,
   "id": "f477bd6e",
   "metadata": {
    "scrolled": false
   },
   "outputs": [
    {
     "data": {
      "text/plain": [
       "658     93\n",
       "554    275\n",
       "Name: n_item, dtype: int32"
      ]
     },
     "execution_count": 65,
     "metadata": {},
     "output_type": "execute_result"
    }
   ],
   "source": [
    "y_train.head(2)"
   ]
  },
  {
   "cell_type": "code",
   "execution_count": 66,
   "id": "2e4c3c32",
   "metadata": {},
   "outputs": [
    {
     "data": {
      "text/plain": [
       "array([93])"
      ]
     },
     "execution_count": 66,
     "metadata": {},
     "output_type": "execute_result"
    }
   ],
   "source": [
    "model.predict([[310,8,3,339]])"
   ]
  },
  {
   "cell_type": "markdown",
   "id": "3a374b6e",
   "metadata": {},
   "source": [
    "### Now we predict the item with decode"
   ]
  },
  {
   "cell_type": "code",
   "execution_count": 67,
   "id": "cd2fcb06",
   "metadata": {},
   "outputs": [
    {
     "data": {
      "text/html": [
       "<div>\n",
       "<style scoped>\n",
       "    .dataframe tbody tr th:only-of-type {\n",
       "        vertical-align: middle;\n",
       "    }\n",
       "\n",
       "    .dataframe tbody tr th {\n",
       "        vertical-align: top;\n",
       "    }\n",
       "\n",
       "    .dataframe thead th {\n",
       "        text-align: right;\n",
       "    }\n",
       "</style>\n",
       "<table border=\"1\" class=\"dataframe\">\n",
       "  <thead>\n",
       "    <tr style=\"text-align: right;\">\n",
       "      <th></th>\n",
       "      <th>Company</th>\n",
       "      <th>Item</th>\n",
       "      <th>Calories</th>\n",
       "      <th>Total Fat\\n(g)</th>\n",
       "      <th>Sugars\\n(g)</th>\n",
       "      <th>Protein\\n(g)</th>\n",
       "      <th>n_item</th>\n",
       "    </tr>\n",
       "  </thead>\n",
       "  <tbody>\n",
       "    <tr>\n",
       "      <th>0</th>\n",
       "      <td>McDonald’s</td>\n",
       "      <td>Hamburger</td>\n",
       "      <td>250.0</td>\n",
       "      <td>9.0</td>\n",
       "      <td>6.0</td>\n",
       "      <td>12.0</td>\n",
       "      <td>134</td>\n",
       "    </tr>\n",
       "    <tr>\n",
       "      <th>1</th>\n",
       "      <td>McDonald’s</td>\n",
       "      <td>Cheeseburger</td>\n",
       "      <td>300.0</td>\n",
       "      <td>12.0</td>\n",
       "      <td>6.0</td>\n",
       "      <td>15.0</td>\n",
       "      <td>72</td>\n",
       "    </tr>\n",
       "    <tr>\n",
       "      <th>2</th>\n",
       "      <td>McDonald’s</td>\n",
       "      <td>Double Cheeseburger</td>\n",
       "      <td>440.0</td>\n",
       "      <td>23.0</td>\n",
       "      <td>7.0</td>\n",
       "      <td>25.0</td>\n",
       "      <td>107</td>\n",
       "    </tr>\n",
       "    <tr>\n",
       "      <th>3</th>\n",
       "      <td>McDonald’s</td>\n",
       "      <td>McDouble</td>\n",
       "      <td>390.0</td>\n",
       "      <td>19.0</td>\n",
       "      <td>7.0</td>\n",
       "      <td>22.0</td>\n",
       "      <td>194</td>\n",
       "    </tr>\n",
       "    <tr>\n",
       "      <th>4</th>\n",
       "      <td>McDonald’s</td>\n",
       "      <td>Quarter Pounder® with Cheese</td>\n",
       "      <td>510.0</td>\n",
       "      <td>26.0</td>\n",
       "      <td>9.0</td>\n",
       "      <td>29.0</td>\n",
       "      <td>0</td>\n",
       "    </tr>\n",
       "  </tbody>\n",
       "</table>\n",
       "</div>"
      ],
      "text/plain": [
       "      Company                           Item  Calories  Total Fat\\n(g)   \n",
       "0  McDonald’s                      Hamburger     250.0             9.0  \\\n",
       "1  McDonald’s                   Cheeseburger     300.0            12.0   \n",
       "2  McDonald’s            Double Cheeseburger     440.0            23.0   \n",
       "3  McDonald’s                       McDouble     390.0            19.0   \n",
       "4  McDonald’s   Quarter Pounder® with Cheese     510.0            26.0   \n",
       "\n",
       "   Sugars\\n(g)  Protein\\n(g)  n_item  \n",
       "0          6.0          12.0     134  \n",
       "1          6.0          15.0      72  \n",
       "2          7.0          25.0     107  \n",
       "3          7.0          22.0     194  \n",
       "4          9.0          29.0       0  "
      ]
     },
     "execution_count": 67,
     "metadata": {},
     "output_type": "execute_result"
    }
   ],
   "source": [
    "df2.head()"
   ]
  },
  {
   "cell_type": "markdown",
   "id": "3101dd1d",
   "metadata": {},
   "source": [
    "This is a way we convert predicted encode to decode value"
   ]
  },
  {
   "cell_type": "code",
   "execution_count": 68,
   "id": "c7f2ce24",
   "metadata": {},
   "outputs": [
    {
     "data": {
      "text/plain": [
       "103    4 Piece Chicken McNuggets Happy Meal\n",
       "Name: Item, dtype: object"
      ]
     },
     "execution_count": 68,
     "metadata": {},
     "output_type": "execute_result"
    }
   ],
   "source": [
    "df2[df3.n_item==4].Item[:1]"
   ]
  },
  {
   "cell_type": "code",
   "execution_count": 69,
   "id": "6a9ace1c",
   "metadata": {},
   "outputs": [],
   "source": [
    "\n",
    "def predict_item(calories,fat,sugar,protein):\n",
    "    l=np.zeros(4)\n",
    "    l[0]=calories\n",
    "    l[1]=fat\n",
    "    l[2]=sugar\n",
    "    l[3]=protein\n",
    "    result_n=model.predict([l])\n",
    "    result=df2[df2.n_item==result_n[0]].Item[:1]\n",
    "    return result.values[0],result_n\n",
    "    "
   ]
  },
  {
   "cell_type": "code",
   "execution_count": 70,
   "id": "b0db120f",
   "metadata": {},
   "outputs": [
    {
     "data": {
      "text/plain": [
       "('Hamburger', array([134]))"
      ]
     },
     "execution_count": 70,
     "metadata": {},
     "output_type": "execute_result"
    }
   ],
   "source": [
    "# Calories, fat, sugar, Protein\n",
    "predict_item(250,9,6,12)"
   ]
  },
  {
   "cell_type": "code",
   "execution_count": 71,
   "id": "4947594e",
   "metadata": {},
   "outputs": [
    {
     "data": {
      "text/plain": [
       "('Double Cheeseburger', array([107]))"
      ]
     },
     "execution_count": 71,
     "metadata": {},
     "output_type": "execute_result"
    }
   ],
   "source": [
    "predict_item(440,23,7,25)"
   ]
  },
  {
   "cell_type": "markdown",
   "id": "fa487198",
   "metadata": {},
   "source": [
    "Let's see about test cases"
   ]
  },
  {
   "cell_type": "code",
   "execution_count": 72,
   "id": "5e1de52b",
   "metadata": {},
   "outputs": [
    {
     "data": {
      "text/html": [
       "<div>\n",
       "<style scoped>\n",
       "    .dataframe tbody tr th:only-of-type {\n",
       "        vertical-align: middle;\n",
       "    }\n",
       "\n",
       "    .dataframe tbody tr th {\n",
       "        vertical-align: top;\n",
       "    }\n",
       "\n",
       "    .dataframe thead th {\n",
       "        text-align: right;\n",
       "    }\n",
       "</style>\n",
       "<table border=\"1\" class=\"dataframe\">\n",
       "  <thead>\n",
       "    <tr style=\"text-align: right;\">\n",
       "      <th></th>\n",
       "      <th>Calories</th>\n",
       "      <th>Total Fat\\n(g)</th>\n",
       "      <th>Sugars\\n(g)</th>\n",
       "      <th>Protein\\n(g)</th>\n",
       "    </tr>\n",
       "  </thead>\n",
       "  <tbody>\n",
       "    <tr>\n",
       "      <th>759</th>\n",
       "      <td>270.0</td>\n",
       "      <td>3.5</td>\n",
       "      <td>11.0</td>\n",
       "      <td>263.5</td>\n",
       "    </tr>\n",
       "    <tr>\n",
       "      <th>99</th>\n",
       "      <td>560.0</td>\n",
       "      <td>27.0</td>\n",
       "      <td>7.0</td>\n",
       "      <td>24.0</td>\n",
       "    </tr>\n",
       "    <tr>\n",
       "      <th>910</th>\n",
       "      <td>330.0</td>\n",
       "      <td>15.0</td>\n",
       "      <td>3.0</td>\n",
       "      <td>10.0</td>\n",
       "    </tr>\n",
       "  </tbody>\n",
       "</table>\n",
       "</div>"
      ],
      "text/plain": [
       "     Calories  Total Fat\\n(g)  Sugars\\n(g)  Protein\\n(g)\n",
       "759     270.0             3.5         11.0         263.5\n",
       "99      560.0            27.0          7.0          24.0\n",
       "910     330.0            15.0          3.0          10.0"
      ]
     },
     "execution_count": 72,
     "metadata": {},
     "output_type": "execute_result"
    }
   ],
   "source": [
    "X_test.head(3)"
   ]
  },
  {
   "cell_type": "code",
   "execution_count": 73,
   "id": "d23225ba",
   "metadata": {},
   "outputs": [
    {
     "data": {
      "text/plain": [
       "759    162\n",
       "99      21\n",
       "910     37\n",
       "Name: n_item, dtype: int32"
      ]
     },
     "execution_count": 73,
     "metadata": {},
     "output_type": "execute_result"
    }
   ],
   "source": [
    "y_test[:3]"
   ]
  },
  {
   "cell_type": "code",
   "execution_count": 74,
   "id": "2a65a0de",
   "metadata": {},
   "outputs": [
    {
     "data": {
      "text/plain": [
       "('KFC® Famous Bowl – Snack Size', array([162]))"
      ]
     },
     "execution_count": 74,
     "metadata": {},
     "output_type": "execute_result"
    }
   ],
   "source": [
    "predict_item(270,3.5,11,263)"
   ]
  },
  {
   "cell_type": "code",
   "execution_count": 75,
   "id": "02f3e170",
   "metadata": {},
   "outputs": [
    {
     "data": {
      "text/plain": [
       "('Bacon, Egg & Cheese Bagel', array([21]))"
      ]
     },
     "execution_count": 75,
     "metadata": {},
     "output_type": "execute_result"
    }
   ],
   "source": [
    "predict_item(560,27,7,24)"
   ]
  },
  {
   "cell_type": "markdown",
   "id": "e6f740e4",
   "metadata": {},
   "source": [
    "Here we are almost correct, because our accuracy is 82% not an 100%"
   ]
  },
  {
   "cell_type": "code",
   "execution_count": 76,
   "id": "b8f61005",
   "metadata": {
    "scrolled": true
   },
   "outputs": [
    {
     "data": {
      "text/plain": [
       "('Black Bean Chalupa – Specialties', array([38]))"
      ]
     },
     "execution_count": 76,
     "metadata": {},
     "output_type": "execute_result"
    }
   ],
   "source": [
    "predict_item(330,15,3,10)"
   ]
  },
  {
   "cell_type": "markdown",
   "id": "26042757",
   "metadata": {},
   "source": [
    "##  Save Model as File"
   ]
  },
  {
   "cell_type": "markdown",
   "id": "6d44da5a",
   "metadata": {},
   "source": [
    "We save model as Joblib"
   ]
  },
  {
   "cell_type": "code",
   "execution_count": 77,
   "id": "0ef20a86",
   "metadata": {},
   "outputs": [],
   "source": [
    "import joblib"
   ]
  },
  {
   "cell_type": "markdown",
   "id": "1cfebded",
   "metadata": {},
   "source": [
    "saving model as file"
   ]
  },
  {
   "cell_type": "code",
   "execution_count": 78,
   "id": "3e7c59aa",
   "metadata": {
    "scrolled": true
   },
   "outputs": [
    {
     "data": {
      "text/plain": [
       "['model_joblib']"
      ]
     },
     "execution_count": 78,
     "metadata": {},
     "output_type": "execute_result"
    }
   ],
   "source": [
    "joblib.dump(model,\"model_joblib\")"
   ]
  },
  {
   "cell_type": "markdown",
   "id": "9e842acd",
   "metadata": {},
   "source": [
    "We can load model as .."
   ]
  },
  {
   "cell_type": "code",
   "execution_count": 79,
   "id": "d53adbd7",
   "metadata": {},
   "outputs": [],
   "source": [
    "md=joblib.load('model_joblib')"
   ]
  },
  {
   "cell_type": "code",
   "execution_count": 80,
   "id": "9755e0e5",
   "metadata": {},
   "outputs": [
    {
     "data": {
      "text/plain": [
       "array([38])"
      ]
     },
     "execution_count": 80,
     "metadata": {},
     "output_type": "execute_result"
    }
   ],
   "source": [
    "md.predict([[330,15,3,10]])"
   ]
  },
  {
   "cell_type": "markdown",
   "id": "f93ccc52",
   "metadata": {},
   "source": [
    "# Conclusion of Model\n",
    "\n",
    "- The model is used to suggest meal based on the input nutrition provided by user\n",
    "- We are using Decision Tree algorithm \n",
    "- Acurracy of model is 82.32%\n"
   ]
  }
 ],
 "metadata": {
  "kernelspec": {
   "display_name": "Python 3 (ipykernel)",
   "language": "python",
   "name": "python3"
  },
  "language_info": {
   "codemirror_mode": {
    "name": "ipython",
    "version": 3
   },
   "file_extension": ".py",
   "mimetype": "text/x-python",
   "name": "python",
   "nbconvert_exporter": "python",
   "pygments_lexer": "ipython3",
   "version": "3.10.7"
  }
 },
 "nbformat": 4,
 "nbformat_minor": 5
}
